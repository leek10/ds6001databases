{
 "cells": [
  {
   "cell_type": "markdown",
   "metadata": {},
   "source": [
    "# Lab Assignment 6: Creating and Connecting to Databases\n",
    "## DS 6001: Practice and Application of Data Science\n",
    "\n",
    "### Instructions\n",
    "Please answer the following questions as completely as possible using text, code, and the results of code as needed. Format your answers in a Jupyter notebook. To receive full credit, make sure you address every part of the problem, and make sure your document is formatted in a clean and professional way.\n",
    "\n",
    "**Please note: you will not be able to use Rivanna for this lab as Rivanna is not set up to work with Docker or with Databases. If you need help getting your local system running, please let me know.**"
   ]
  },
  {
   "cell_type": "markdown",
   "metadata": {},
   "source": [
    "### Problem 0 [No points, no need to write anything here for any of the following parts, but do it anyway!]\n",
    "Databases require a lot of external software. The good news is that there are excellent free and open source options to do very advanced work with databases. The bad news is that each piece of additional software comes with its own complications. This problem will guide you through the installation steps for the software you need to run database systems on your computer, document those databases, and connect to them through Python with (fingers crossed) as few problems as possible."
   ]
  },
  {
   "cell_type": "markdown",
   "metadata": {},
   "source": [
    "#### Part a\n",
    "Use `pip` to install the following Python packages on your system:\n",
    "```\n",
    "mysql-connector-python\n",
    "psycopg\n",
    "pymongo\n",
    "sqlalchemy\n",
    "wget\n",
    "```"
   ]
  },
  {
   "cell_type": "markdown",
   "metadata": {},
   "source": [
    "#### Part b\n",
    "With the exception of SQlite, database systems run as external software that must be installed and run on your computer. To make the installation steps easier, you will need some configuration files that I wrote and saved in a GitHub repository. Open your terminal and use the `cd` command to navigate to the folder in your computer where you want to work. Then type\n",
    "```\n",
    "git clone https://github.com/jkropko/ds6001databases\n",
    "```\n",
    "If this command works, it will create a new directory within your current folder called \"ds6001databases\".\n",
    "\n",
    "* Check that this folder exists and contains the following files: LICENSE, README.md, compose.yaml, db_tests.ipynb, and requirements.txt\n",
    "* Save the notebook file you will be using for your Lab 6 work inside the \"ds6001databases\" folder\n"
   ]
  },
  {
   "cell_type": "markdown",
   "metadata": {},
   "source": [
    "#### Part c\n",
    "We will be using a system called Docker to work with databases. Docker is the most commonly used platform for working with **containers**. While we will not be delving into the topic of containerization in this course, a container is space in your computer's memory that is set apart from the rest of your computer. We can act as if the container is an entirely new computer, and inside the container we can change the operating system and install other software external to Python, such as database management systems. We can use a container to run Windows on a Mac, or vice versa, or Linux on any system. By far the easiest way to run MySQL, PostgreSQL, and MongoDB is through Docker containers. \n",
    "\n",
    "You will need to install Docker Desktop on your computer. Go to https://www.docker.com/products/docker-desktop/ and click on the Download button, making sure the operating system listed matches the operating system of your computer.\n",
    "\n",
    "Once Docker Desktop is installed, find the Docker Desktop program on your computer and run it.\n",
    "\n",
    "To confirm that Docker Desktop is running, open a terminal and type `docker help`. If you see documentation that begins\n",
    "```\n",
    "Usage:  docker [OPTIONS] COMMAND\n",
    "\n",
    "A self-sufficient runtime for containers\n",
    "```\n",
    "then you are all set. If you see an error that Docker is not found, then the Docker Desktop client was not installed properly, so you should try downloading and installing it from the website again. If you receive a message that the Docker daemon is not running, then Docker is installed but is not running. Find the Docker Desktop executable on your computer and click it to get Docker running."
   ]
  },
  {
   "cell_type": "markdown",
   "metadata": {},
   "source": [
    "#### Part d\n",
    "Inside your \"ds6001databases\" folder, create a .env file. On a Mac, type `touch .env` then `open .env` to create and open the file. On Windows, open a new file on Notepad and go to \"Save As\", then save it in your \"ds6001databases\" folder -- make sure to set \"File As Type\" to \"All files\" and name the file \".env\".\n",
    "\n",
    "Inside the .env file you need to choose passwords for the MySQL, PostgreSQL, and MongoDB databases, so type\n",
    "```\n",
    "MYSQL_ROOT_PASSWORD=redlobstercheddarbiscuits\n",
    "POSTGRES_PASSWORD=outbackbloominonion\n",
    "MONGO_INITDB_ROOT_PASSWORD=olivegardenunlimitedbreadsticks\n",
    "MONGO_INITDB_ROOT_USERNAME=mongo\n",
    "mongo_init_db = mongodb\n",
    "MYSQL_DATABASE=mysql\n",
    "```\n",
    "Change the passwords on the first three lines to whatever you want, but DON'T USE THE @ SYMBOL as that will cause problems. Leave the fourth, fifth, and sixth lines alone, as well as the names of each environmental variable."
   ]
  },
  {
   "cell_type": "markdown",
   "metadata": {},
   "source": [
    "#### Part e\n",
    "In the terminal, make sure you are in the \"ds6001databases\" folder (you can check by typing `pwd`. If not, then use `cd` to navigate to the \"ds6001databases\" folder). Then type\n",
    "```\n",
    "docker compose up\n",
    "```\n",
    "This command launches all of the databases. If successful, you will see a long stream of output with messages that begin `ds6001databases-postgres-1`, `ds6001databases-mysql-1`, and `ds6001databases-mongo-1`. If not, we will need to debug together, but the issue likely has to do with something preventing parts a, b, c, or d from being completed successfully."
   ]
  },
  {
   "cell_type": "markdown",
   "metadata": {},
   "source": [
    "#### Part f\n",
    "To confirm that the databases are running on your system, open the \"db_tests.ipynb\" notebook file, which should be saved in you \"ds6001databases\" folder. Run everything in this notebook and make sure there are no errors."
   ]
  },
  {
   "cell_type": "markdown",
   "metadata": {},
   "source": [
    "#### Part g\n",
    "In addition to the databases, we will be using dbdocs.io to create documentation for our databases and post them online with a stable URL. But to get dbdocs running, you first need to install NodeJS on your computer: https://nodejs.org/en\n",
    "\n",
    "Then to install dbdocs, follow the instructions here: https://dbdocs.io/docs"
   ]
  },
  {
   "cell_type": "markdown",
   "metadata": {},
   "source": [
    "#### Part h\n",
    "Finally, create a notebook inside your \"ds6001databases\" folder for your work on this lab. Import the following libraries, and load the `.env` file where you store your passwords. "
   ]
  },
  {
   "cell_type": "code",
   "execution_count": 42,
   "metadata": {},
   "outputs": [
    {
     "name": "stdout",
     "output_type": "stream",
     "text": [
      "Requirement already satisfied: wget in c:\\users\\leeka\\miniconda3\\lib\\site-packages (3.2)\n"
     ]
    }
   ],
   "source": [
    "!pip install wget"
   ]
  },
  {
   "cell_type": "code",
   "execution_count": 1,
   "metadata": {},
   "outputs": [],
   "source": [
    "import numpy as np\n",
    "import pandas as pd\n",
    "import wget\n",
    "import sqlite3\n",
    "import sqlalchemy\n",
    "import requests\n",
    "import json\n",
    "import os\n",
    "import sys\n",
    "import dotenv\n",
    "import mysql.connector\n",
    "import psycopg\n",
    "import pymongo\n",
    "from sqlalchemy import create_engine\n",
    "\n",
    "\n",
    "dotenv.load_dotenv()\n",
    "POSTGRES_PASSWORD = os.getenv('POSTGRES_PASSWORD')\n",
    "MONGO_INITDB_ROOT_USERNAME = os.getenv('MONGO_INITDB_ROOT_USERNAME')\n",
    "MONGO_INITDB_ROOT_PASSWORD = os.getenv('MONGO_INITDB_ROOT_PASSWORD')\n",
    "mongo_init_db = os.getenv('mongo_init_db')\n",
    "MYSQL_ROOT_PASSWORD = os.getenv('MYSQL_ROOT_PASSWORD')"
   ]
  },
  {
   "cell_type": "markdown",
   "metadata": {},
   "source": [
    "### Problem 1 \n",
    "**This problem requires you to create Markdown tables** \n",
    "\n",
    "To create a table in a markdown cell, I recommend using the markdown table generator here: https://www.tablesgenerator.com/markdown_tables. This interface allows you to choose the number of rows and columns, fill in those rows and colums, and push the \"generate\" button. The website will display markdown table code that looks like:\n",
    "```\n",
    "| Day       | Temp | Rain |\n",
    "|-----------|------|------|\n",
    "| Monday    | 74   | No   |\n",
    "| Tuesday   | 58   | Yes  |\n",
    "| Wednesday | 76   | No   |\n",
    "```\n",
    "Copy the markdown code and paste it into a markdown cell in your notebook. Markdown will read the code and display a table that looks like this:\n",
    "\n",
    "| Day       | Temp | Rain |\n",
    "|-----------|------|------|\n",
    "| Monday    | 74   | No   |\n",
    "| Tuesday   | 58   | Yes  |\n",
    "| Wednesday | 76   | No   |\n",
    "\n",
    "Suppose that we have (fake) data on people who were hospitalized and received at least one prescription for a medication. Here are ten records in the data:\n",
    "\n",
    "(If this table gets cut off in the PDF, please look at the .ipynb notebook file on the module 6 page on Canvas)\n",
    "\n",
    "| patient_name       | date_of_birth | prescribed_drug | prior_conditions                     | patient_sex | patient_insurance      | drug_maker               | drug_cost | attending_physician | AP_medschool                      | AP_years_experience | hospital                       | hospital_location |\n",
    "|--------------------|---------------|-----------------|--------------------------------------|-------------|------------------------|--------------------------|-----------|---------------------|-----------------------------------|--------------------|--------------------------------|-------------------|\n",
    "| Nkemdilim Arendonk | 2/21/1962     | Amoxil          | [Pneumonia, Diabetes]                | M           | Aetna                  | USAntibiotics            | 14.62     | Earnest Caro        | University of California (Irvine) | 14                 | UPMC Presbyterian Shadyside    | Pittsburgh, PA    |\n",
    "| Nkemdilim Arendonk | 2/21/1962     | Micronase       | [Pneumonia, Diabetes]                | M           | Aetna                  | Pfizer                   | 20.55     | Earnest Caro        | University of California (Irvine) | 14                 | UPMC Presbyterian Shadyside    | Pittsburgh, PA    |\n",
    "| Raniero Coumans    | 8/15/1990     | Zosyn           | [Appendicitis, Crohn's disease]      | M           | Cigna                  | Baxter International Inc | 394.00    | Pamela English      | University of Michigan            | 29                 | Northwestern Memorial Hospital | Chicago, IL       |\n",
    "| Raniero Coumans    | 8/15/1990     | Humira          | [Appendicitis, Crohn's disease]      | M           | Cigna                  | Abbvie                   | 7000.00   | Pamela English      | University of Michigan            | 29                 | Northwestern Memorial Hospital | Chicago, IL       |\n",
    "| Mizuki Debenham    | 3/12/1977     | Inlyta          | [Kidney Cancer]                      | F           | Kaiser Permanente      | Pfizer                   | 21644.00  | Lewis Conti         | North Carolina State University   | 8                  | Houston Methodist Hospital     | Houston, TX       |\n",
    "| Zoë De Witt        | 11/23/1947    | Atenolol        | [Cardiomyopathy, Diabetes, Sciatica] | F           | Medicare               | Mylan Pharmaceuticals    | 10.58     | Theresa Dahlmans    | Lake Erie College of Medicine     | 17                 | Mount Sinai Hospital           | New York, NY      |\n",
    "| Zoë De Witt        | 11/23/1947    | Micronase       | [Cardiomyopathy, Diabetes, Sciatica] | F           | Medicare               | Pfizer                   | 20.55     | Theresa Dahlmans    | Lake Erie College of Medicine     | 17                 | Mount Sinai Hospital           | New York, NY      |\n",
    "| Zoë De Witt        | 11/23/1947    | Demerol         | [Cardiomyopathy, Diabetes, Sciatica] | F           | Medicare               | Pfizer                   | 37.50     | Theresa Dahlmans    | Lake Erie College of Medicine     | 17                 | Mount Sinai Hospital           | New York, NY      |\n",
    "| Bonnie Hooper      | 7/4/1951      | Xeloda          | [Pancreatic Cancer, Sciatica]        | F           | Blue Cross Blue Shield | Genentech                | 860.00    | Steven Garbutt      | Ohio State University             | 36                 | UCSF Medical Center            | San Francisco, CA |\n",
    "| Bonnie Hooper      | 7/4/1951      | Demerol         | [Pancreatic Cancer, Sciatica]        | F           | Blue Cross Blue Shield | Pfizer                   | 37.50     | Steven Garbutt      | Ohio State University             | 36                 | UCSF Medical Center            | San Francisco, CA |\n",
    "\n",
    "The columns in this dataset are:\n",
    "\n",
    "* **patient_name**: The patient's name\n",
    "* **date_of_birth**: The patient's date of birth\n",
    "* **prescribed_drug**: The brand name of the medication that patient has been prescribed\n",
    "* **prior_conditions**: A list of the conditions that the patient had been diagnosed with prior to the patient's hospitalization\n",
    "* **patient_sex**: The patient's sex\n",
    "* **patient_insurance**: The company responsible for the patient's health insurance coverage\n",
    "* **drug_maker**: The company that manufactures the prescribed drug\n",
    "* **drug_cost**: The cost of the prescribed drug\n",
    "* **attending_physician**: The name of the attending physician for the patient\n",
    "* **AP_medschool**: The name of the school where the attending physician got a medical degree\n",
    "* **AP_years_experience**: The attending physician's number of years of experience post-residency\n",
    "* **hospital**: The hospital where the attending physicial is employed\n",
    "* **hospital_location**: The location of the hospital\n",
    "\n",
    "For this problem, assume that \n",
    "\n",
    "1. No two rows in this table share both the same patient and the same prescribed drug.\n",
    "   \n",
    "2. Some patients in the data share the same name, but no two patients in the data share the same name and date of birth.\n",
    "\n",
    "3. No two different drugs share the same brand name.\n",
    "\n",
    "4. No two attending physicians have the same name, and every attending physician is employed at only one hospital.\n",
    "\n",
    "5. No two hospitals share the same name, and every hospital exists at only one location.\n",
    "   \n",
    "6. Each patient has only one attending physician. (In real-world applications we may want to design a database that allows for multiple hospitalizations for some patients, but here we'll keep it simpler by assuming each patient has one hospitalization with one attending physician.)"
   ]
  },
  {
   "cell_type": "markdown",
   "metadata": {},
   "source": [
    "#### Part a \n",
    "Rearrange the data into a group of data tables that together meet the requirements of first normal form. [2 points]"
   ]
  },
  {
   "cell_type": "markdown",
   "metadata": {},
   "source": [
    "Conditions Table:\n",
    "\n",
    "| patient_name       | date_of_birth | prior_conditions                     |\n",
    "|--------------------|---------------|--------------------------------------|\n",
    "| Nkemdilim Arendonk | 2/21/1962     | Pneumonia                            |\n",
    "| Nkemdilim Arendonk | 2/21/1962     | Diabetes                             |\n",
    "| Raniero Coumans    | 8/15/1990     | Appendicitis                         |\n",
    "| Raniero Coumans    | 8/15/1990     | Crohn's disease                      |\n",
    "| Mizuki Debenham    | 3/12/1977     | Kidney Cancer                        |\n",
    "| Zoë De Witt        | 11/23/1947    | Cardiomyopathy                       |\n",
    "| Zoë De Witt        | 11/23/1947    | Diabetes                             |\n",
    "| Zoë De Witt        | 11/23/1947    | Sciatica                             |\n",
    "| Bonnie Hooper      | 7/4/1951      | Pancreatic Cancer                    |\n",
    "| Bonnie Hooper      | 7/4/1951      | Sciatica                             |"
   ]
  },
  {
   "cell_type": "markdown",
   "metadata": {},
   "source": [
    "1NF Table:\n",
    "\n",
    "| patient_name       | date_of_birth | prescribed_drug | patient_sex | patient_insurance      | drug_maker               | drug_cost | attending_physician | AP_medschool                      | AP_years_experience | hospital                       | hospital_location |\n",
    "|--------------------|---------------|-----------------|-------------|------------------------|--------------------------|-----------|---------------------|-----------------------------------|--------------------|--------------------------------|-------------------|\n",
    "| Nkemdilim Arendonk | 2/21/1962     | Amoxil          | M           | Aetna                  | USAntibiotics            | 14.62     | Earnest Caro        | University of California (Irvine) | 14                 | UPMC Presbyterian Shadyside    | Pittsburgh, PA    |\n",
    "| Nkemdilim Arendonk | 2/21/1962     | Micronase       | M           | Aetna                  | Pfizer                   | 20.55     | Earnest Caro        | University of California (Irvine) | 14                 | UPMC Presbyterian Shadyside    | Pittsburgh, PA    |\n",
    "| Raniero Coumans    | 8/15/1990     | Zosyn           | M           | Cigna                  | Baxter International Inc | 394.00    | Pamela English      | University of Michigan            | 29                 | Northwestern Memorial Hospital | Chicago, IL       |\n",
    "| Raniero Coumans    | 8/15/1990     | Humira          | M           | Cigna                  | Abbvie                   | 7000.00   | Pamela English      | University of Michigan            | 29                 | Northwestern Memorial Hospital | Chicago, IL       |\n",
    "| Mizuki Debenham    | 3/12/1977     | Inlyta          | F           | Kaiser Permanente      | Pfizer                   | 21644.00  | Lewis Conti         | North Carolina State University   | 8                  | Houston Methodist Hospital     | Houston, TX       |\n",
    "| Zoë De Witt        | 11/23/1947    | Atenolol        | F           | Medicare               | Mylan Pharmaceuticals    | 10.58     | Theresa Dahlmans    | Lake Erie College of Medicine     | 17                 | Mount Sinai Hospital           | New York, NY      |\n",
    "| Zoë De Witt        | 11/23/1947    | Micronase       | F           | Medicare               | Pfizer                   | 20.55     | Theresa Dahlmans    | Lake Erie College of Medicine     | 17                 | Mount Sinai Hospital           | New York, NY      |\n",
    "| Zoë De Witt        | 11/23/1947    | Demerol         | F           | Medicare               | Pfizer                   | 37.50     | Theresa Dahlmans    | Lake Erie College of Medicine     | 17                 | Mount Sinai Hospital           | New York, NY      |\n",
    "| Bonnie Hooper      | 7/4/1951      | Xeloda          | F           | Blue Cross Blue Shield | Genentech                | 860.00    | Steven Garbutt      | Ohio State University             | 36                 | UCSF Medical Center            | San Francisco, CA |\n",
    "| Bonnie Hooper      | 7/4/1951      | Demerol         | F           | Blue Cross Blue Shield | Pfizer                   | 37.50     | Steven Garbutt      | Ohio State University             | 36                 | UCSF Medical Center            | San Francisco, CA |\n"
   ]
  },
  {
   "cell_type": "markdown",
   "metadata": {},
   "source": [
    "#### Part b \n",
    "Rearrange the data on the five patients into a group of data tables that together meet the requirements of second normal form. [2 points]"
   ]
  },
  {
   "cell_type": "markdown",
   "metadata": {},
   "source": [
    "Conditions Table:\n",
    "\n",
    "| patient_name       | date_of_birth | prior_conditions                     |\n",
    "|--------------------|---------------|--------------------------------------|\n",
    "| Nkemdilim Arendonk | 2/21/1962     | Pneumonia                            |\n",
    "| Nkemdilim Arendonk | 2/21/1962     | Diabetes                             |\n",
    "| Raniero Coumans    | 8/15/1990     | Appendicitis                         |\n",
    "| Raniero Coumans    | 8/15/1990     | Crohn's disease                      |\n",
    "| Mizuki Debenham    | 3/12/1977     | Kidney Cancer                        |\n",
    "| Zoë De Witt        | 11/23/1947    | Cardiomyopathy                       |\n",
    "| Zoë De Witt        | 11/23/1947    | Diabetes                             |\n",
    "| Zoë De Witt        | 11/23/1947    | Sciatica                             |\n",
    "| Bonnie Hooper      | 7/4/1951      | Pancreatic Cancer                    |\n",
    "| Bonnie Hooper      | 7/4/1951      | Sciatica                             |"
   ]
  },
  {
   "cell_type": "markdown",
   "metadata": {},
   "source": [
    "Patient Table:\n",
    "\n",
    "| patient_name       | date_of_birth | patient_sex | patient_insurance      | \n",
    "|--------------------|---------------|-------------|------------------------|\n",
    "| Nkemdilim Arendonk | 2/21/1962     | M           | Aetna                  |\n",
    "| Raniero Coumans    | 8/15/1990     | M           | Cigna                  |\n",
    "| Mizuki Debenham    | 3/12/1977     | F           | Kaiser Permanente      |\n",
    "| Zoë De Witt        | 11/23/1947    | F           | Medicare               |\n",
    "| Bonnie Hooper      | 7/4/1951      | F           | Blue Cross Blue Shield |"
   ]
  },
  {
   "cell_type": "markdown",
   "metadata": {},
   "source": [
    "Drugs Table:\n",
    "\n",
    "| prescribed_drug | drug_maker               | drug_cost |\n",
    "|-----------------|--------------------------|-----------|\n",
    "| Amoxil          | USAntibiotics            | 14.62     |\n",
    "| Micronase       | Pfizer                   | 20.55     |\n",
    "| Zosyn           | Baxter International Inc | 394.00    |\n",
    "| Humira          | Abbvie                   | 7000.00   |\n",
    "| Inlyta          | Pfizer                   | 21644.00  |\n",
    "| Atenolol        | Mylan Pharmaceuticals    | 10.58     |\n",
    "| Demerol         | Pfizer                   | 37.50     |\n",
    "| Xeloda          | Genentech                | 860.00    |\n"
   ]
  },
  {
   "cell_type": "markdown",
   "metadata": {},
   "source": [
    "2NF Table:\n",
    "\n",
    "| patient_name       | date_of_birth | prescribed_drug | attending_physician | AP_medschool                      | AP_years_experience | hospital                       | hospital_location |\n",
    "|--------------------|---------------|-----------------|---------------------|-----------------------------------|---------------------|--------------------------------|-------------------|\n",
    "| Nkemdilim Arendonk | 2/21/1962     | Amoxil          | Earnest Caro        | University of California (Irvine) | 14                  | UPMC Presbyterian Shadyside    | Pittsburgh, PA    |\n",
    "| Nkemdilim Arendonk | 2/21/1962     | Micronase       | Earnest Caro        | University of California (Irvine) | 14                  | UPMC Presbyterian Shadyside    | Pittsburgh, PA    |\n",
    "| Raniero Coumans    | 8/15/1990     | Zosyn           | Pamela English      | University of Michigan            | 29                  | Northwestern Memorial Hospital | Chicago, IL       |\n",
    "| Raniero Coumans    | 8/15/1990     | Humira          | Pamela English      | University of Michigan            | 29                  | Northwestern Memorial Hospital | Chicago, IL       |\n",
    "| Mizuki Debenham    | 3/12/1977     | Inlyta          | Lewis Conti         | North Carolina State University   | 8                   | Houston Methodist Hospital     | Houston, TX       |\n",
    "| Zoë De Witt        | 11/23/1947    | Atenolol        | Theresa Dahlmans    | Lake Erie College of Medicine     | 17                  | Mount Sinai Hospital           | New York, NY      |\n",
    "| Zoë De Witt        | 11/23/1947    | Micronase       | Theresa Dahlmans    | Lake Erie College of Medicine     | 17                  | Mount Sinai Hospital           | New York, NY      |\n",
    "| Zoë De Witt        | 11/23/1947    | Demerol         | Theresa Dahlmans    | Lake Erie College of Medicine     | 17                  | Mount Sinai Hospital           | New York, NY      |\n",
    "| Bonnie Hooper      | 7/4/1951      | Xeloda          | Steven Garbutt      | Ohio State University             | 36                  | UCSF Medical Center            | San Francisco, CA |\n",
    "| Bonnie Hooper      | 7/4/1951      | Demerol         | Steven Garbutt      | Ohio State University             | 36                  | UCSF Medical Center            | San Francisco, CA |\n"
   ]
  },
  {
   "cell_type": "markdown",
   "metadata": {},
   "source": [
    "#### Part c \n",
    "Rearrange the data into a group of data tables that together meet the requirements of third normal form. [2 points]"
   ]
  },
  {
   "cell_type": "markdown",
   "metadata": {},
   "source": [
    "3NF Tables:"
   ]
  },
  {
   "cell_type": "markdown",
   "metadata": {},
   "source": [
    "Primary Keys Table:\n",
    "\n",
    "| patient_name       | date_of_birth | prescribed_drug | attending_physician |\n",
    "|--------------------|---------------|-----------------|---------------------|\n",
    "| Nkemdilim Arendonk | 2/21/1962     | Amoxil          | Earnest Caro        |\n",
    "| Nkemdilim Arendonk | 2/21/1962     | Micronase       | Earnest Caro        |\n",
    "| Raniero Coumans    | 8/15/1990     | Zosyn           | Pamela English      |\n",
    "| Raniero Coumans    | 8/15/1990     | Humira          | Pamela English      |\n",
    "| Mizuki Debenham    | 3/12/1977     | Inlyta          | Lewis Conti         |\n",
    "| Zoë De Witt        | 11/23/1947    | Atenolol        | Theresa Dahlmans    |\n",
    "| Zoë De Witt        | 11/23/1947    | Micronase       | Theresa Dahlmans    |\n",
    "| Zoë De Witt        | 11/23/1947    | Demerol         | Theresa Dahlmans    |\n",
    "| Bonnie Hooper      | 7/4/1951      | Xeloda          | Steven Garbutt      |\n",
    "| Bonnie Hooper      | 7/4/1951      | Demerol         | Steven Garbutt      |"
   ]
  },
  {
   "cell_type": "markdown",
   "metadata": {},
   "source": [
    "Patients Table:\n",
    "\n",
    "| patient_name       | date_of_birth | patient_sex | patient_insurance      | \n",
    "|--------------------|---------------|-------------|------------------------|\n",
    "| Nkemdilim Arendonk | 2/21/1962     | M           | Aetna                  |\n",
    "| Raniero Coumans    | 8/15/1990     | M           | Cigna                  |\n",
    "| Mizuki Debenham    | 3/12/1977     | F           | Kaiser Permanente      |\n",
    "| Zoë De Witt        | 11/23/1947    | F           | Medicare               |\n",
    "| Bonnie Hooper      | 7/4/1951      | F           | Blue Cross Blue Shield |"
   ]
  },
  {
   "cell_type": "markdown",
   "metadata": {},
   "source": [
    "Conditions Table:\n",
    "\n",
    "| patient_name       | date_of_birth | prior_conditions                     |\n",
    "|--------------------|---------------|--------------------------------------|\n",
    "| Nkemdilim Arendonk | 2/21/1962     | Pneumonia                            |\n",
    "| Nkemdilim Arendonk | 2/21/1962     | Diabetes                             |\n",
    "| Raniero Coumans    | 8/15/1990     | Appendicitis                         |\n",
    "| Raniero Coumans    | 8/15/1990     | Crohn's disease                      |\n",
    "| Mizuki Debenham    | 3/12/1977     | Kidney Cancer                        |\n",
    "| Zoë De Witt        | 11/23/1947    | Cardiomyopathy                       |\n",
    "| Zoë De Witt        | 11/23/1947    | Diabetes                             |\n",
    "| Zoë De Witt        | 11/23/1947    | Sciatica                             |\n",
    "| Bonnie Hooper      | 7/4/1951      | Pancreatic Cancer                    |\n",
    "| Bonnie Hooper      | 7/4/1951      | Sciatica                             |"
   ]
  },
  {
   "cell_type": "markdown",
   "metadata": {},
   "source": [
    "Drugs Table:\n",
    "\n",
    "| prescribed_drug | drug_maker               | drug_cost |\n",
    "|-----------------|--------------------------|-----------|\n",
    "| Amoxil          | USAntibiotics            | 14.62     |\n",
    "| Micronase       | Pfizer                   | 20.55     |\n",
    "| Zosyn           | Baxter International Inc | 394.00    |\n",
    "| Humira          | Abbvie                   | 7000.00   |\n",
    "| Inlyta          | Pfizer                   | 21644.00  |\n",
    "| Atenolol        | Mylan Pharmaceuticals    | 10.58     |\n",
    "| Demerol         | Pfizer                   | 37.50     |\n",
    "| Xeloda          | Genentech                | 860.00    |\n"
   ]
  },
  {
   "cell_type": "markdown",
   "metadata": {},
   "source": [
    "Physicians Table:\n",
    "\n",
    "| attending_physician | AP_medschool                      | AP_years_experience | hospital                       |\n",
    "|---------------------|-----------------------------------|---------------------|--------------------------------|\n",
    "| Earnest Caro        | University of California (Irvine) | 14                  | UPMC Presbyterian Shadyside    |\n",
    "| Pamela English      | University of Michigan            | 29                  | Northwestern Memorial Hospital |\n",
    "| Lewis Conti         | North Carolina State University   | 8                   | Houston Methodist Hospital     |\n",
    "| Theresa Dahlmans    | Lake Erie College of Medicine     | 17                  | Mount Sinai Hospital           |\n",
    "| Steven Garbutt      | Ohio State University             | 36                  | UCSF Medical Center            |\n"
   ]
  },
  {
   "cell_type": "markdown",
   "metadata": {},
   "source": [
    "Hospitals Table:\n",
    "\n",
    "| hospital                       | hospital_location |\n",
    "|--------------------------------|-------------------|\n",
    "| UPMC Presbyterian Shadyside    | Pittsburgh, PA    |\n",
    "| Northwestern Memorial Hospital | Chicago, IL       |\n",
    "| Houston Methodist Hospital     | Houston, TX       |\n",
    "| Mount Sinai Hospital           | New York, NY      |\n",
    "| UCSF Medical Center            | San Francisco, CA |"
   ]
  },
  {
   "cell_type": "markdown",
   "metadata": {},
   "source": [
    "### Problem 2\n",
    "For this problem, create ER diagrams of the database you created in problem 1, part c using https://dbdocs.io/. Make sure you install DBDocs on your system by following these instructions: https://dbdocs.io/docs"
   ]
  },
  {
   "cell_type": "markdown",
   "metadata": {},
   "source": [
    "#### Part a \n",
    "Write code using the [database markup language](https://dbml.dbdiagram.io/home/) (DBML) that represents all of the tables in this database and the connections between the tables. Paste your DBML code in a markdown cell in your notebook, contained within three backticks to begin and end the code snippet, as shown in the cell below. \n",
    "\n",
    "Two good resources to help you:\n",
    "\n",
    "1. The example on the Getting Started page on dbdocs.io: https://dbdocs.io/docs\n",
    "2. The full syntax guide for DBML: https://dbml.dbdiagram.io/docs/#project-definition\n",
    "\n",
    "A few notes:\n",
    "* Make sure to specify the data type for each column in each table. Use varchar for strings/text, int for integers, and float for numeric data with decimals.\n",
    "* You will probably find it useful to alias each table with one or two letters, such as: Table PRESCRIPTIONS as PR. That will allow you to use PR to refer to the PRESCRIPTIONS table, for example, in the Reference statements to link tables together.\n",
    "* Use the syntax [pk] after a column name and data type to designate the columns that are primary keys in each table.\n",
    "* To draw the lines linking one table to another, use the Ref: syntax.\n",
    "    * If many rows from the left table match to one row in the right table, use the \"many to one\" symbol >\n",
    "    * If one row from the left table matches to many rows in the right table, use the \"one to many\" symbol <\n",
    "    * If one row from the left table matches to one row in the right table, use the \"one to one\" symbol -\n",
    "    * If many rows from the left table match to many rows in the right table, use the \"many to many\" symbol <>\n",
    "      \n",
    "[2 points]"
   ]
  },
  {
   "cell_type": "code",
   "execution_count": 44,
   "metadata": {},
   "outputs": [],
   "source": [
    "primary_keys = pd.read_csv('primary_key.csv')\n",
    "patients = pd.read_csv('patient.csv')\n",
    "conditions = pd.read_csv('conditions.csv')\n",
    "drugs = pd.read_csv('drugs.csv')\n",
    "physicians = pd.read_csv('physician.csv')\n",
    "hospitals = pd.read_csv('hospital.csv')"
   ]
  },
  {
   "cell_type": "markdown",
   "metadata": {},
   "source": [
    "```\n",
    "Make sure you get the .ipynb file for this lab from the module 6 page on Canvas\n",
    "\n",
    "Then when you double-click this box, you'll see three backticks before and after this text. Leave those alone\n",
    "\n",
    "Type your code here, between the backticks\n",
    "\n",
    "Code:\n",
    "\n",
    "Project MedicalRecords {\n",
    "  database_type: 'PostgreSQL'\n",
    "  Note: '''\n",
    "    # Patient Records\n",
    "    **Database created for patient records, July 2024**\n",
    "  '''\n",
    "}\n",
    "Table primary_keys as PK {\n",
    "  patient_name varchar [pk]\n",
    "  date_of_birth varchar [pk]\n",
    "  prescribed_drug varchar [pk]\n",
    "  attending_physician varchar\n",
    "  note: \"table 'primary_keys' contains the primary keys\"\n",
    "}\n",
    "Table patients as P {\n",
    "  patient_name varchar [pk]\n",
    "  date_of_birth varchar [pk]\n",
    "  patient_sex varchar\n",
    "  patient_insurance varchar\n",
    "  note: \"table 'patients' contains information about patients and their health insurance\"\n",
    "}\n",
    "Table conditions as C {\n",
    "  patient_name varchar [pk]\n",
    "  date_of_birth varchar [pk]\n",
    "  prior_conditions varchar [pk]\n",
    "  note: \"table 'conditions' contains information about existing conditions within patients\"\n",
    "}\n",
    "Table drugs as D {\n",
    "  prescribed_drug varchar [pk]\n",
    "  drug_maker varchar\n",
    "  drug_cost float\n",
    "  note: \"table 'drugs' contains information about the drug makers and their costs\"\n",
    "}\n",
    "Table physicians as PH {\n",
    "  attending_physician varchar [pk]\n",
    "  AP_medschool varchar\n",
    "  AP_years_experience int\n",
    "  hospital varchar\n",
    "  note: \"table 'physicians' contains information about the physicians and their work experience\"\n",
    "}\n",
    "Table hospitals as H {\n",
    "  hospital varchar [pk]\n",
    "  hospital_location varchar\n",
    "  note: \"table 'hospitals' contains information about the hospitals and their locations\"\n",
    "}\n",
    "\n",
    "Ref: D.prescribed_drug < PK.prescribed_drug\n",
    "Ref: PH.attending_physician < PK.attending_physician\n",
    "Ref: P.patient_name < PK.patient_name\n",
    "Ref: P.date_of_birth < PK.date_of_birth\n",
    "Ref: C.patient_name - PK.patient_name\n",
    "Ref: C.date_of_birth - PK.date_of_birth\n",
    "Ref: PH.hospital - H.hospital \n",
    "\n",
    "```"
   ]
  },
  {
   "cell_type": "markdown",
   "metadata": {},
   "source": [
    "### Part b\n",
    "Use the instructions on DBDocs.io (https://dbdocs.io/docs) to create a website for your ER diagram. Type the URL for your website in a markdown cell here. [1 point]"
   ]
  },
  {
   "cell_type": "markdown",
   "metadata": {},
   "source": [
    "My example is here: https://dbdocs.io/jkropko/Lab6?view=relationships"
   ]
  },
  {
   "cell_type": "markdown",
   "metadata": {},
   "source": [
    "URL: https://dbdocs.io/kl2jmx/MedicalRecords"
   ]
  },
  {
   "cell_type": "markdown",
   "metadata": {},
   "source": [
    "### Problem 3\n",
    "For this problem, you will download the individual CSV files that comprise a relational database on album reviews from [Pitchfork Magazine](https://pitchfork.com/), collected via webscraping by [Nolan B. Conaway](https://github.com/nolanbconaway/pitchfork-data), and use them to initialize local databases using SQlite, MySQL, and PostgreSQL. "
   ]
  },
  {
   "cell_type": "markdown",
   "metadata": {},
   "source": [
    "The following code of code will download the CSV files. Please run this as is:"
   ]
  },
  {
   "cell_type": "code",
   "execution_count": 4,
   "metadata": {},
   "outputs": [],
   "source": [
    "url = \"https://github.com/nolanbconaway/pitchfork-data/raw/master/pitchfork.db\"\n",
    "pfork = wget.download(url)\n",
    "pitchfork = sqlite3.connect(pfork)\n",
    "for t in ['artists','content','genres','labels','reviews','years']:\n",
    "    datatable = pd.read_sql_query(\"SELECT * FROM {tab}\".format(tab=t), pitchfork)\n",
    "    datatable.to_csv(\"{tab}.csv\".format(tab=t))"
   ]
  },
  {
   "cell_type": "markdown",
   "metadata": {},
   "source": [
    "Note: this code downloaded a SQlite database and extracted the tables, saving each one as a CSV. That seems backwards, as the purpose of this exercise is to create databases. But the point here is to practice creating databases from individual data frames. Next we load the CSVs to create the data frames in Python:"
   ]
  },
  {
   "cell_type": "code",
   "execution_count": 2,
   "metadata": {},
   "outputs": [],
   "source": [
    "reviews = pd.read_csv(\"reviews.csv\")\n",
    "artists = pd.read_csv(\"artists.csv\")\n",
    "content = pd.read_csv(\"content.csv\")\n",
    "genres = pd.read_csv(\"genres.csv\")\n",
    "labels = pd.read_csv(\"labels.csv\")\n",
    "years = pd.read_csv(\"years.csv\")"
   ]
  },
  {
   "cell_type": "markdown",
   "metadata": {},
   "source": [
    "#### Part a\n",
    "Initialize a new database using SQlite and the `sqlite3` library. Add the six dataframes to this database. Then issue the following query to the database\n",
    "```\n",
    "SELECT title, artist, score FROM reviews WHERE score=10\n",
    "```\n",
    "using two methods: first, using the `.cursor()` method, and second using `pd.read_sql_query()`. Finally, commit your changes to the database and close the database. (If you get a warning about spaces in the column names, feel free to ignore it this time.) [2 points]"
   ]
  },
  {
   "cell_type": "code",
   "execution_count": 3,
   "metadata": {},
   "outputs": [
    {
     "data": {
      "text/plain": [
       "19108"
      ]
     },
     "execution_count": 3,
     "metadata": {},
     "output_type": "execute_result"
    }
   ],
   "source": [
    "# New database\n",
    "new_db = sqlite3.connect('pitchfork_a.db')\n",
    "\n",
    "# Dataframes\n",
    "reviews.to_sql('reviews', new_db, if_exists = 'replace', index = False)\n",
    "artists.to_sql('artists', new_db, if_exists = 'replace', index = False)\n",
    "content.to_sql('content', new_db, if_exists = 'replace', index = False)\n",
    "genres.to_sql('genres', new_db, if_exists = 'replace', index = False)\n",
    "labels.to_sql('labels', new_db, if_exists = 'replace', index = False)\n",
    "years.to_sql('years', new_db, if_exists = 'replace', index = False)"
   ]
  },
  {
   "cell_type": "code",
   "execution_count": 10,
   "metadata": {},
   "outputs": [
    {
     "data": {
      "text/html": [
       "<div>\n",
       "<style scoped>\n",
       "    .dataframe tbody tr th:only-of-type {\n",
       "        vertical-align: middle;\n",
       "    }\n",
       "\n",
       "    .dataframe tbody tr th {\n",
       "        vertical-align: top;\n",
       "    }\n",
       "\n",
       "    .dataframe thead th {\n",
       "        text-align: right;\n",
       "    }\n",
       "</style>\n",
       "<table border=\"1\" class=\"dataframe\">\n",
       "  <thead>\n",
       "    <tr style=\"text-align: right;\">\n",
       "      <th></th>\n",
       "      <th>title</th>\n",
       "      <th>artist</th>\n",
       "      <th>score</th>\n",
       "    </tr>\n",
       "  </thead>\n",
       "  <tbody>\n",
       "    <tr>\n",
       "      <th>0</th>\n",
       "      <td>metal box</td>\n",
       "      <td>public image ltd</td>\n",
       "      <td>10.0</td>\n",
       "    </tr>\n",
       "    <tr>\n",
       "      <th>1</th>\n",
       "      <td>blood on the tracks</td>\n",
       "      <td>bob dylan</td>\n",
       "      <td>10.0</td>\n",
       "    </tr>\n",
       "    <tr>\n",
       "      <th>2</th>\n",
       "      <td>another green world</td>\n",
       "      <td>brian eno</td>\n",
       "      <td>10.0</td>\n",
       "    </tr>\n",
       "    <tr>\n",
       "      <th>3</th>\n",
       "      <td>songs in the key of life</td>\n",
       "      <td>stevie wonder</td>\n",
       "      <td>10.0</td>\n",
       "    </tr>\n",
       "    <tr>\n",
       "      <th>4</th>\n",
       "      <td>in concert</td>\n",
       "      <td>nina simone</td>\n",
       "      <td>10.0</td>\n",
       "    </tr>\n",
       "    <tr>\n",
       "      <th>...</th>\n",
       "      <td>...</td>\n",
       "      <td>...</td>\n",
       "      <td>...</td>\n",
       "    </tr>\n",
       "    <tr>\n",
       "      <th>71</th>\n",
       "      <td>source tags and codes</td>\n",
       "      <td>...and you will know us by the trail of dead</td>\n",
       "      <td>10.0</td>\n",
       "    </tr>\n",
       "    <tr>\n",
       "      <th>72</th>\n",
       "      <td>the olatunji concert: the last live recording</td>\n",
       "      <td>john coltrane</td>\n",
       "      <td>10.0</td>\n",
       "    </tr>\n",
       "    <tr>\n",
       "      <th>73</th>\n",
       "      <td>kid a</td>\n",
       "      <td>radiohead</td>\n",
       "      <td>10.0</td>\n",
       "    </tr>\n",
       "    <tr>\n",
       "      <th>74</th>\n",
       "      <td>animals</td>\n",
       "      <td>pink floyd</td>\n",
       "      <td>10.0</td>\n",
       "    </tr>\n",
       "    <tr>\n",
       "      <th>75</th>\n",
       "      <td>i see a darkness</td>\n",
       "      <td>bonnie prince billy</td>\n",
       "      <td>10.0</td>\n",
       "    </tr>\n",
       "  </tbody>\n",
       "</table>\n",
       "<p>76 rows × 3 columns</p>\n",
       "</div>"
      ],
      "text/plain": [
       "                                            title  \\\n",
       "0                                       metal box   \n",
       "1                             blood on the tracks   \n",
       "2                             another green world   \n",
       "3                        songs in the key of life   \n",
       "4                                      in concert   \n",
       "..                                            ...   \n",
       "71                          source tags and codes   \n",
       "72  the olatunji concert: the last live recording   \n",
       "73                                          kid a   \n",
       "74                                        animals   \n",
       "75                               i see a darkness   \n",
       "\n",
       "                                          artist  score  \n",
       "0                               public image ltd   10.0  \n",
       "1                                      bob dylan   10.0  \n",
       "2                                      brian eno   10.0  \n",
       "3                                  stevie wonder   10.0  \n",
       "4                                    nina simone   10.0  \n",
       "..                                           ...    ...  \n",
       "71  ...and you will know us by the trail of dead   10.0  \n",
       "72                                 john coltrane   10.0  \n",
       "73                                     radiohead   10.0  \n",
       "74                                    pink floyd   10.0  \n",
       "75                           bonnie prince billy   10.0  \n",
       "\n",
       "[76 rows x 3 columns]"
      ]
     },
     "execution_count": 10,
     "metadata": {},
     "output_type": "execute_result"
    }
   ],
   "source": [
    "# Method 1: .cursor()\n",
    "cursor = new_db.cursor()\n",
    "cursor.execute(\"SELECT title, artist, score FROM reviews WHERE score = 10\")\n",
    "results = cursor.fetchall()\n",
    "\n",
    "# Showing results\n",
    "colnames = [x[0] for x in cursor.description]\n",
    "pd.DataFrame(results, columns=colnames)"
   ]
  },
  {
   "cell_type": "code",
   "execution_count": 11,
   "metadata": {},
   "outputs": [
    {
     "data": {
      "text/html": [
       "<div>\n",
       "<style scoped>\n",
       "    .dataframe tbody tr th:only-of-type {\n",
       "        vertical-align: middle;\n",
       "    }\n",
       "\n",
       "    .dataframe tbody tr th {\n",
       "        vertical-align: top;\n",
       "    }\n",
       "\n",
       "    .dataframe thead th {\n",
       "        text-align: right;\n",
       "    }\n",
       "</style>\n",
       "<table border=\"1\" class=\"dataframe\">\n",
       "  <thead>\n",
       "    <tr style=\"text-align: right;\">\n",
       "      <th></th>\n",
       "      <th>title</th>\n",
       "      <th>artist</th>\n",
       "      <th>score</th>\n",
       "    </tr>\n",
       "  </thead>\n",
       "  <tbody>\n",
       "    <tr>\n",
       "      <th>0</th>\n",
       "      <td>metal box</td>\n",
       "      <td>public image ltd</td>\n",
       "      <td>10.0</td>\n",
       "    </tr>\n",
       "    <tr>\n",
       "      <th>1</th>\n",
       "      <td>blood on the tracks</td>\n",
       "      <td>bob dylan</td>\n",
       "      <td>10.0</td>\n",
       "    </tr>\n",
       "    <tr>\n",
       "      <th>2</th>\n",
       "      <td>another green world</td>\n",
       "      <td>brian eno</td>\n",
       "      <td>10.0</td>\n",
       "    </tr>\n",
       "    <tr>\n",
       "      <th>3</th>\n",
       "      <td>songs in the key of life</td>\n",
       "      <td>stevie wonder</td>\n",
       "      <td>10.0</td>\n",
       "    </tr>\n",
       "    <tr>\n",
       "      <th>4</th>\n",
       "      <td>in concert</td>\n",
       "      <td>nina simone</td>\n",
       "      <td>10.0</td>\n",
       "    </tr>\n",
       "    <tr>\n",
       "      <th>...</th>\n",
       "      <td>...</td>\n",
       "      <td>...</td>\n",
       "      <td>...</td>\n",
       "    </tr>\n",
       "    <tr>\n",
       "      <th>71</th>\n",
       "      <td>source tags and codes</td>\n",
       "      <td>...and you will know us by the trail of dead</td>\n",
       "      <td>10.0</td>\n",
       "    </tr>\n",
       "    <tr>\n",
       "      <th>72</th>\n",
       "      <td>the olatunji concert: the last live recording</td>\n",
       "      <td>john coltrane</td>\n",
       "      <td>10.0</td>\n",
       "    </tr>\n",
       "    <tr>\n",
       "      <th>73</th>\n",
       "      <td>kid a</td>\n",
       "      <td>radiohead</td>\n",
       "      <td>10.0</td>\n",
       "    </tr>\n",
       "    <tr>\n",
       "      <th>74</th>\n",
       "      <td>animals</td>\n",
       "      <td>pink floyd</td>\n",
       "      <td>10.0</td>\n",
       "    </tr>\n",
       "    <tr>\n",
       "      <th>75</th>\n",
       "      <td>i see a darkness</td>\n",
       "      <td>bonnie prince billy</td>\n",
       "      <td>10.0</td>\n",
       "    </tr>\n",
       "  </tbody>\n",
       "</table>\n",
       "<p>76 rows × 3 columns</p>\n",
       "</div>"
      ],
      "text/plain": [
       "                                            title  \\\n",
       "0                                       metal box   \n",
       "1                             blood on the tracks   \n",
       "2                             another green world   \n",
       "3                        songs in the key of life   \n",
       "4                                      in concert   \n",
       "..                                            ...   \n",
       "71                          source tags and codes   \n",
       "72  the olatunji concert: the last live recording   \n",
       "73                                          kid a   \n",
       "74                                        animals   \n",
       "75                               i see a darkness   \n",
       "\n",
       "                                          artist  score  \n",
       "0                               public image ltd   10.0  \n",
       "1                                      bob dylan   10.0  \n",
       "2                                      brian eno   10.0  \n",
       "3                                  stevie wonder   10.0  \n",
       "4                                    nina simone   10.0  \n",
       "..                                           ...    ...  \n",
       "71  ...and you will know us by the trail of dead   10.0  \n",
       "72                                 john coltrane   10.0  \n",
       "73                                     radiohead   10.0  \n",
       "74                                    pink floyd   10.0  \n",
       "75                           bonnie prince billy   10.0  \n",
       "\n",
       "[76 rows x 3 columns]"
      ]
     },
     "execution_count": 11,
     "metadata": {},
     "output_type": "execute_result"
    }
   ],
   "source": [
    "# Method 2: pd.read_sql_query()\n",
    "query = \"SELECT title, artist, score FROM reviews WHERE score = 10\"\n",
    "results_df = pd.read_sql_query(query, new_db)\n",
    "\n",
    "# Showing results\n",
    "pd.DataFrame(results_df)"
   ]
  },
  {
   "cell_type": "code",
   "execution_count": 12,
   "metadata": {},
   "outputs": [],
   "source": [
    "# Commit changes and close database\n",
    "new_db.commit()\n",
    "new_db.close()"
   ]
  },
  {
   "cell_type": "markdown",
   "metadata": {},
   "source": [
    "#### Part b\n",
    "Follow the instructions in the Jupyter notebook for this module to install MySQL and `mysql.connector` on your computer. Make sure the MySQL server is running. Then import `mysql.connector` and do all of the tasks listed for part a using a MySQL database (including commiting changes and closing the database connection). Take steps to hide your password - do not let it display in your notebook. [3 points]"
   ]
  },
  {
   "cell_type": "code",
   "execution_count": 10,
   "metadata": {},
   "outputs": [
    {
     "name": "stdout",
     "output_type": "stream",
     "text": [
      "Collecting mysql-connector\n",
      "  Using cached mysql_connector-2.2.9-cp312-cp312-win_amd64.whl\n",
      "Installing collected packages: mysql-connector\n",
      "Successfully installed mysql-connector-2.2.9\n"
     ]
    }
   ],
   "source": [
    "!pip install mysql-connector"
   ]
  },
  {
   "cell_type": "code",
   "execution_count": 11,
   "metadata": {},
   "outputs": [
    {
     "name": "stdout",
     "output_type": "stream",
     "text": [
      "Requirement already satisfied: mysql-connector-python in c:\\users\\leeka\\miniconda3\\lib\\site-packages (9.0.0)\n"
     ]
    }
   ],
   "source": [
    "!pip install --upgrade mysql-connector-python"
   ]
  },
  {
   "cell_type": "code",
   "execution_count": 12,
   "metadata": {},
   "outputs": [],
   "source": [
    "import mysql.connector"
   ]
  },
  {
   "cell_type": "code",
   "execution_count": 35,
   "metadata": {},
   "outputs": [],
   "source": [
    "# Environmental variables\n",
    "dotenv.load_dotenv()\n",
    "mysql_password = os.getenv('MYSQL_ROOT_PASSWORD')\n",
    "\n",
    "# Connect to server\n",
    "dbserver = mysql.connector.connect(user = 'root',\n",
    "                                    password = mysql_password,\n",
    "                                    host = 'localhost',\n",
    "                                    auth_plugin='mysql_native_password')"
   ]
  },
  {
   "cell_type": "code",
   "execution_count": 36,
   "metadata": {},
   "outputs": [],
   "source": [
    "# New Database\n",
    "cursor = dbserver.cursor()\n",
    "\n",
    "try:\n",
    "    cursor.execute('CREATE DATABASE pitchfork_b')\n",
    "except:\n",
    "    cursor.execute('DROP DATABASE pitchfork_b')\n",
    "    cursor.execute('CREATE DATABASE pitchfork_b')"
   ]
  },
  {
   "cell_type": "code",
   "execution_count": 37,
   "metadata": {},
   "outputs": [],
   "source": [
    "# Connect to new database\n",
    "new_db2 = mysql.connector.connect(user='root',\n",
    "    password=mysql_password,\n",
    "    host='localhost',\n",
    "    database='pitchfork_b',\n",
    "    auth_plugin='mysql_native_password'\n",
    ")"
   ]
  },
  {
   "cell_type": "code",
   "execution_count": 38,
   "metadata": {},
   "outputs": [
    {
     "data": {
      "text/plain": [
       "-20"
      ]
     },
     "execution_count": 38,
     "metadata": {},
     "output_type": "execute_result"
    }
   ],
   "source": [
    "# Dataframes\n",
    "dbms = 'mysql'\n",
    "connector = 'mysqlconnector'\n",
    "user = 'root'\n",
    "password = mysql_password\n",
    "host = 'localhost'\n",
    "database = 'pitchfork_b'\n",
    "engine_string = f'{dbms}+{connector}://{user}:{password}@{host}/{database}?auth_plugin=mysql_native_password'\n",
    "engine = create_engine(engine_string)\n",
    "\n",
    "reviews.to_sql('reviews', engine, chunksize = 1000, if_exists = 'replace', index = False)\n",
    "artists.to_sql('artists', engine, chunksize = 1000, if_exists = 'replace', index = False)\n",
    "content.to_sql('content', engine, chunksize = 1000, if_exists = 'replace', index = False)\n",
    "genres.to_sql('genres', engine, chunksize = 1000, if_exists = 'replace', index = False)\n",
    "labels.to_sql('labels', engine, chunksize = 1000, if_exists = 'replace', index = False)\n",
    "years.to_sql('years', engine, chunksize = 1000, if_exists = 'replace', index = False)"
   ]
  },
  {
   "cell_type": "code",
   "execution_count": 39,
   "metadata": {},
   "outputs": [
    {
     "data": {
      "text/html": [
       "<div>\n",
       "<style scoped>\n",
       "    .dataframe tbody tr th:only-of-type {\n",
       "        vertical-align: middle;\n",
       "    }\n",
       "\n",
       "    .dataframe tbody tr th {\n",
       "        vertical-align: top;\n",
       "    }\n",
       "\n",
       "    .dataframe thead th {\n",
       "        text-align: right;\n",
       "    }\n",
       "</style>\n",
       "<table border=\"1\" class=\"dataframe\">\n",
       "  <thead>\n",
       "    <tr style=\"text-align: right;\">\n",
       "      <th></th>\n",
       "      <th>title</th>\n",
       "      <th>artist</th>\n",
       "      <th>score</th>\n",
       "    </tr>\n",
       "  </thead>\n",
       "  <tbody>\n",
       "    <tr>\n",
       "      <th>0</th>\n",
       "      <td>metal box</td>\n",
       "      <td>public image ltd</td>\n",
       "      <td>10.0</td>\n",
       "    </tr>\n",
       "    <tr>\n",
       "      <th>1</th>\n",
       "      <td>blood on the tracks</td>\n",
       "      <td>bob dylan</td>\n",
       "      <td>10.0</td>\n",
       "    </tr>\n",
       "    <tr>\n",
       "      <th>2</th>\n",
       "      <td>another green world</td>\n",
       "      <td>brian eno</td>\n",
       "      <td>10.0</td>\n",
       "    </tr>\n",
       "    <tr>\n",
       "      <th>3</th>\n",
       "      <td>songs in the key of life</td>\n",
       "      <td>stevie wonder</td>\n",
       "      <td>10.0</td>\n",
       "    </tr>\n",
       "    <tr>\n",
       "      <th>4</th>\n",
       "      <td>in concert</td>\n",
       "      <td>nina simone</td>\n",
       "      <td>10.0</td>\n",
       "    </tr>\n",
       "    <tr>\n",
       "      <th>...</th>\n",
       "      <td>...</td>\n",
       "      <td>...</td>\n",
       "      <td>...</td>\n",
       "    </tr>\n",
       "    <tr>\n",
       "      <th>71</th>\n",
       "      <td>source tags and codes</td>\n",
       "      <td>...and you will know us by the trail of dead</td>\n",
       "      <td>10.0</td>\n",
       "    </tr>\n",
       "    <tr>\n",
       "      <th>72</th>\n",
       "      <td>the olatunji concert: the last live recording</td>\n",
       "      <td>john coltrane</td>\n",
       "      <td>10.0</td>\n",
       "    </tr>\n",
       "    <tr>\n",
       "      <th>73</th>\n",
       "      <td>kid a</td>\n",
       "      <td>radiohead</td>\n",
       "      <td>10.0</td>\n",
       "    </tr>\n",
       "    <tr>\n",
       "      <th>74</th>\n",
       "      <td>animals</td>\n",
       "      <td>pink floyd</td>\n",
       "      <td>10.0</td>\n",
       "    </tr>\n",
       "    <tr>\n",
       "      <th>75</th>\n",
       "      <td>i see a darkness</td>\n",
       "      <td>bonnie prince billy</td>\n",
       "      <td>10.0</td>\n",
       "    </tr>\n",
       "  </tbody>\n",
       "</table>\n",
       "<p>76 rows × 3 columns</p>\n",
       "</div>"
      ],
      "text/plain": [
       "                                            title  \\\n",
       "0                                       metal box   \n",
       "1                             blood on the tracks   \n",
       "2                             another green world   \n",
       "3                        songs in the key of life   \n",
       "4                                      in concert   \n",
       "..                                            ...   \n",
       "71                          source tags and codes   \n",
       "72  the olatunji concert: the last live recording   \n",
       "73                                          kid a   \n",
       "74                                        animals   \n",
       "75                               i see a darkness   \n",
       "\n",
       "                                          artist  score  \n",
       "0                               public image ltd   10.0  \n",
       "1                                      bob dylan   10.0  \n",
       "2                                      brian eno   10.0  \n",
       "3                                  stevie wonder   10.0  \n",
       "4                                    nina simone   10.0  \n",
       "..                                           ...    ...  \n",
       "71  ...and you will know us by the trail of dead   10.0  \n",
       "72                                 john coltrane   10.0  \n",
       "73                                     radiohead   10.0  \n",
       "74                                    pink floyd   10.0  \n",
       "75                           bonnie prince billy   10.0  \n",
       "\n",
       "[76 rows x 3 columns]"
      ]
     },
     "execution_count": 39,
     "metadata": {},
     "output_type": "execute_result"
    }
   ],
   "source": [
    "# Method 1: .cursor()\n",
    "cursor2 = new_db2.cursor()\n",
    "cursor2.execute(\"SELECT title, artist, score FROM reviews WHERE score = 10\")\n",
    "results2 = cursor2.fetchall()\n",
    "\n",
    "# Showing results\n",
    "colnames = [x[0] for x in cursor2.description]\n",
    "pd.DataFrame(results2, columns=colnames)"
   ]
  },
  {
   "cell_type": "code",
   "execution_count": 40,
   "metadata": {},
   "outputs": [
    {
     "data": {
      "text/html": [
       "<div>\n",
       "<style scoped>\n",
       "    .dataframe tbody tr th:only-of-type {\n",
       "        vertical-align: middle;\n",
       "    }\n",
       "\n",
       "    .dataframe tbody tr th {\n",
       "        vertical-align: top;\n",
       "    }\n",
       "\n",
       "    .dataframe thead th {\n",
       "        text-align: right;\n",
       "    }\n",
       "</style>\n",
       "<table border=\"1\" class=\"dataframe\">\n",
       "  <thead>\n",
       "    <tr style=\"text-align: right;\">\n",
       "      <th></th>\n",
       "      <th>title</th>\n",
       "      <th>artist</th>\n",
       "      <th>score</th>\n",
       "    </tr>\n",
       "  </thead>\n",
       "  <tbody>\n",
       "    <tr>\n",
       "      <th>0</th>\n",
       "      <td>metal box</td>\n",
       "      <td>public image ltd</td>\n",
       "      <td>10.0</td>\n",
       "    </tr>\n",
       "    <tr>\n",
       "      <th>1</th>\n",
       "      <td>blood on the tracks</td>\n",
       "      <td>bob dylan</td>\n",
       "      <td>10.0</td>\n",
       "    </tr>\n",
       "    <tr>\n",
       "      <th>2</th>\n",
       "      <td>another green world</td>\n",
       "      <td>brian eno</td>\n",
       "      <td>10.0</td>\n",
       "    </tr>\n",
       "    <tr>\n",
       "      <th>3</th>\n",
       "      <td>songs in the key of life</td>\n",
       "      <td>stevie wonder</td>\n",
       "      <td>10.0</td>\n",
       "    </tr>\n",
       "    <tr>\n",
       "      <th>4</th>\n",
       "      <td>in concert</td>\n",
       "      <td>nina simone</td>\n",
       "      <td>10.0</td>\n",
       "    </tr>\n",
       "    <tr>\n",
       "      <th>...</th>\n",
       "      <td>...</td>\n",
       "      <td>...</td>\n",
       "      <td>...</td>\n",
       "    </tr>\n",
       "    <tr>\n",
       "      <th>71</th>\n",
       "      <td>source tags and codes</td>\n",
       "      <td>...and you will know us by the trail of dead</td>\n",
       "      <td>10.0</td>\n",
       "    </tr>\n",
       "    <tr>\n",
       "      <th>72</th>\n",
       "      <td>the olatunji concert: the last live recording</td>\n",
       "      <td>john coltrane</td>\n",
       "      <td>10.0</td>\n",
       "    </tr>\n",
       "    <tr>\n",
       "      <th>73</th>\n",
       "      <td>kid a</td>\n",
       "      <td>radiohead</td>\n",
       "      <td>10.0</td>\n",
       "    </tr>\n",
       "    <tr>\n",
       "      <th>74</th>\n",
       "      <td>animals</td>\n",
       "      <td>pink floyd</td>\n",
       "      <td>10.0</td>\n",
       "    </tr>\n",
       "    <tr>\n",
       "      <th>75</th>\n",
       "      <td>i see a darkness</td>\n",
       "      <td>bonnie prince billy</td>\n",
       "      <td>10.0</td>\n",
       "    </tr>\n",
       "  </tbody>\n",
       "</table>\n",
       "<p>76 rows × 3 columns</p>\n",
       "</div>"
      ],
      "text/plain": [
       "                                            title  \\\n",
       "0                                       metal box   \n",
       "1                             blood on the tracks   \n",
       "2                             another green world   \n",
       "3                        songs in the key of life   \n",
       "4                                      in concert   \n",
       "..                                            ...   \n",
       "71                          source tags and codes   \n",
       "72  the olatunji concert: the last live recording   \n",
       "73                                          kid a   \n",
       "74                                        animals   \n",
       "75                               i see a darkness   \n",
       "\n",
       "                                          artist  score  \n",
       "0                               public image ltd   10.0  \n",
       "1                                      bob dylan   10.0  \n",
       "2                                      brian eno   10.0  \n",
       "3                                  stevie wonder   10.0  \n",
       "4                                    nina simone   10.0  \n",
       "..                                           ...    ...  \n",
       "71  ...and you will know us by the trail of dead   10.0  \n",
       "72                                 john coltrane   10.0  \n",
       "73                                     radiohead   10.0  \n",
       "74                                    pink floyd   10.0  \n",
       "75                           bonnie prince billy   10.0  \n",
       "\n",
       "[76 rows x 3 columns]"
      ]
     },
     "execution_count": 40,
     "metadata": {},
     "output_type": "execute_result"
    }
   ],
   "source": [
    "# Method 2: pd.read_sql_query()\n",
    "query = \"SELECT title, artist, score FROM reviews WHERE score = 10\"\n",
    "results_df2 = pd.read_sql_query(query, engine)\n",
    "\n",
    "# Showing results\n",
    "pd.DataFrame(results_df2)"
   ]
  },
  {
   "cell_type": "code",
   "execution_count": 41,
   "metadata": {},
   "outputs": [],
   "source": [
    "# Commit changes and close database\n",
    "new_db2.commit()\n",
    "new_db2.close()"
   ]
  },
  {
   "cell_type": "markdown",
   "metadata": {},
   "source": [
    "#### Part c\n",
    "Follow the instructions in the Jupyter notebook for this module to install PostgreSQL and `psycopg2` on your computer. Then import `psycopg2` and do all of the tasks listed for part a using a PostgreSQL database (including commiting changes and closing the database connection). Take steps to hide your password - do not let it display in your notebook. [3 points]"
   ]
  },
  {
   "cell_type": "code",
   "execution_count": 42,
   "metadata": {},
   "outputs": [],
   "source": [
    "# Environmental variables\n",
    "dotenv.load_dotenv()\n",
    "postgres_password = os.getenv('POSTGRES_PASSWORD')\n",
    "\n",
    "# Connect to server\n",
    "dbserver = psycopg.connect(\n",
    "    user = 'postgres',\n",
    "    password = postgres_password,\n",
    "    host = 'localhost',\n",
    "    port = '5432'\n",
    ")\n",
    "\n",
    "dbserver.autocommit = True"
   ]
  },
  {
   "cell_type": "code",
   "execution_count": null,
   "metadata": {},
   "outputs": [],
   "source": [
    "# New database\n",
    "cursor = dbserver.cursor()\n",
    "\n",
    "try:\n",
    "    cursor.execute('CREATE DATABASE pitchfork_c')\n",
    "except:\n",
    "    cursor.execute('DROP DATABASE pitchfork_c')\n",
    "    cursor.execute('CREATE DATABASE pitchfork_c')"
   ]
  },
  {
   "cell_type": "code",
   "execution_count": 75,
   "metadata": {},
   "outputs": [],
   "source": [
    "# Closing initial connection\n",
    " cursor.close()\n",
    " dbserver.close()"
   ]
  },
  {
   "cell_type": "code",
   "execution_count": 76,
   "metadata": {},
   "outputs": [],
   "source": [
    "# Connect to new database\n",
    "dbserver = psycopg.connect(\n",
    "    user = 'postgres',\n",
    "    password = postgres_password,\n",
    "    host = 'localhost',\n",
    "    port = '5432',\n",
    "    dbname = 'pitchfork_c'\n",
    ")\n",
    "\n",
    "dbserver.autocommit = True"
   ]
  },
  {
   "cell_type": "code",
   "execution_count": 77,
   "metadata": {},
   "outputs": [
    {
     "data": {
      "text/plain": [
       "-20"
      ]
     },
     "execution_count": 77,
     "metadata": {},
     "output_type": "execute_result"
    }
   ],
   "source": [
    "# Dataframes\n",
    "dbms = 'postgresql'\n",
    "connector = 'psycopg'\n",
    "user = 'postgres'\n",
    "password = postgres_password\n",
    "host = 'localhost'\n",
    "port = '5432'\n",
    "database = 'pitchfork_c'\n",
    "engine_string = f'{dbms}+{connector}://{user}:{password}@{host}:{port}/{database}'\n",
    "engine2 = create_engine(engine_string)\n",
    "\n",
    "reviews.to_sql('reviews', engine2, chunksize = 1000, if_exists = 'replace', index = False)\n",
    "artists.to_sql('artists', engine2, chunksize = 1000, if_exists = 'replace', index = False)\n",
    "content.to_sql('content', engine2, chunksize = 1000, if_exists = 'replace', index = False)\n",
    "genres.to_sql('genres', engine2, chunksize = 1000, if_exists = 'replace', index = False)\n",
    "labels.to_sql('labels', engine2, chunksize = 1000, if_exists = 'replace', index = False)\n",
    "years.to_sql('years', engine2, chunksize = 1000, if_exists = 'replace', index = False)"
   ]
  },
  {
   "cell_type": "code",
   "execution_count": 78,
   "metadata": {},
   "outputs": [
    {
     "name": "stdout",
     "output_type": "stream",
     "text": [
      "('metal box', 'public image ltd', 10.0)\n",
      "('blood on the tracks', 'bob dylan', 10.0)\n",
      "('another green world', 'brian eno', 10.0)\n",
      "('songs in the key of life', 'stevie wonder', 10.0)\n",
      "('in concert', 'nina simone', 10.0)\n",
      "(\"tonight's the night\", 'neil young', 10.0)\n",
      "('hounds of love', 'kate bush', 10.0)\n",
      "('sign \"o\" the times', 'prince', 10.0)\n",
      "('1999', 'prince', 10.0)\n",
      "('purple rain', 'prince, the revolution', 10.0)\n",
      "('dirty mind', 'prince', 10.0)\n",
      "('off the wall', 'michael jackson', 10.0)\n",
      "('\"heroes\"', 'david bowie', 10.0)\n",
      "('low', 'david bowie', 10.0)\n",
      "('a love supreme: the complete masters', 'john coltrane', 10.0)\n",
      "(\"people's instinctive travels and the paths of rhythm\", 'a tribe called quest', 10.0)\n",
      "('astral weeks', 'van morrison', 10.0)\n",
      "('loaded: re-loaded 45th anniversary edition', 'the velvet underground', 10.0)\n",
      "('sticky fingers', 'the rolling stones', 10.0)\n",
      "('it takes a nation of millions to hold us back', 'public enemy', 10.0)\n",
      "('the velvet underground  45th anniversary super deluxe edition', 'the velvet underground', 10.0)\n",
      "('spiderland', 'slint', 10.0)\n",
      "('the infamous', 'mobb deep', 10.0)\n",
      "('white light/white heat', 'the velvet underground', 10.0)\n",
      "('in utero: 20th anniversary edition', 'nirvana', 10.0)\n",
      "('rumours', 'fleetwood mac', 10.0)\n",
      "('illmatic', 'nas', 10.0)\n",
      "('donuts (45 box set)', 'j dilla', 10.0)\n",
      "('voodoo', 'dangelo', 10.0)\n",
      "('the disintegration loops', 'william basinski', 10.0)\n",
      "('liquid swords: chess box deluxe edition', 'gza', 10.0)\n",
      "(\"isn't anything\", 'my bloody valentine', 10.0)\n",
      "('tago mago [40th anniversary edition]', 'can', 10.0)\n",
      "('the smile sessions', 'the beach boys', 10.0)\n",
      "('laughing stock', 'talk talk', 10.0)\n",
      "('nevermind [20th anniversary edition]', 'nirvana', 10.0)\n",
      "('emergency & i [vinyl reissue]', 'the dismemberment plan', 10.0)\n",
      "('my beautiful dark twisted fantasy', 'kanye west', 10.0)\n",
      "('disintegration [deluxe edition]', 'the cure', 10.0)\n",
      "('exile on main st. [deluxe edition]', 'the rolling stones', 10.0)\n",
      "('quarantine the past', 'pavement', 10.0)\n",
      "(\"ladies and gentlemen we are floating in space [collector's editon]\", 'spiritualized', 10.0)\n",
      "('the stone roses', 'the stone roses', 10.0)\n",
      "('the beatles', 'the beatles', 10.0)\n",
      "('abbey road', 'the beatles', 10.0)\n",
      "('rubber soul', 'the beatles', 10.0)\n",
      "('revolver', 'the beatles', 10.0)\n",
      "(\"sgt. pepper's lonely hearts club band\", 'the beatles', 10.0)\n",
      "('magical mystery tour', 'the beatles', 10.0)\n",
      "('stereo box', 'the beatles', 10.0)\n",
      "('kid a: special collectors edition', 'radiohead', 10.0)\n",
      "('reckoning [deluxe edition]', 'r.e.m.', 10.0)\n",
      "('histoire de melody nelson', 'serge gainsbourg', 10.0)\n",
      "(\"paul's boutique\", 'beastie boys', 10.0)\n",
      "('murmur [deluxe edition]', 'r.e.m.', 10.0)\n",
      "(\"otis blue: otis redding sings soul [collector's edition]\", 'otis redding', 10.0)\n",
      "('unknown pleasures', 'joy division', 10.0)\n",
      "('daydream nation: deluxe edition', 'sonic youth', 10.0)\n",
      "('pink flag', 'wire', 10.0)\n",
      "('born to run: 30th anniversary edition', 'bruce springsteen', 10.0)\n",
      "('in the aeroplane over the sea', 'neutral milk hotel', 10.0)\n",
      "('endtroducing... [deluxe edition]', 'dj shadow', 10.0)\n",
      "(\"crooked rain, crooked rain: la's desert origins\", 'pavement', 10.0)\n",
      "('london calling: 25th anniversary legacy edition', 'the clash', 10.0)\n",
      "('music has the right to children', 'boards of canada', 10.0)\n",
      "('live at the apollo [expanded edition]', 'james brown', 10.0)\n",
      "('no thanks!: the 70s punk rebellion', 'various artists', 10.0)\n",
      "('marquee moon', 'television', 10.0)\n",
      "('the ascension', 'glenn branca', 10.0)\n",
      "(\"this year's model\", 'elvis costello & the attractions', 10.0)\n",
      "('yankee hotel foxtrot', 'wilco', 10.0)\n",
      "('source tags and codes', '...and you will know us by the trail of dead', 10.0)\n",
      "('the olatunji concert: the last live recording', 'john coltrane', 10.0)\n",
      "('kid a', 'radiohead', 10.0)\n",
      "('animals', 'pink floyd', 10.0)\n",
      "('i see a darkness', 'bonnie prince billy', 10.0)\n"
     ]
    }
   ],
   "source": [
    "# Method 1: .cursor()\n",
    "cursor3 = dbserver.cursor()\n",
    "cursor3.execute(\"SELECT title, artist, score FROM reviews WHERE score = 10\")\n",
    "results3 = cursor.fetchall()\n",
    "\n",
    "# Showing results\n",
    "colnames = [x[0] for x in cursor3.description]\n",
    "pd.DataFrame(results3, columns=colnames)"
   ]
  },
  {
   "cell_type": "code",
   "execution_count": 79,
   "metadata": {},
   "outputs": [
    {
     "name": "stdout",
     "output_type": "stream",
     "text": [
      "                                            title  \\\n",
      "0                                       metal box   \n",
      "1                             blood on the tracks   \n",
      "2                             another green world   \n",
      "3                        songs in the key of life   \n",
      "4                                      in concert   \n",
      "..                                            ...   \n",
      "71                          source tags and codes   \n",
      "72  the olatunji concert: the last live recording   \n",
      "73                                          kid a   \n",
      "74                                        animals   \n",
      "75                               i see a darkness   \n",
      "\n",
      "                                          artist  score  \n",
      "0                               public image ltd   10.0  \n",
      "1                                      bob dylan   10.0  \n",
      "2                                      brian eno   10.0  \n",
      "3                                  stevie wonder   10.0  \n",
      "4                                    nina simone   10.0  \n",
      "..                                           ...    ...  \n",
      "71  ...and you will know us by the trail of dead   10.0  \n",
      "72                                 john coltrane   10.0  \n",
      "73                                     radiohead   10.0  \n",
      "74                                    pink floyd   10.0  \n",
      "75                           bonnie prince billy   10.0  \n",
      "\n",
      "[76 rows x 3 columns]\n"
     ]
    }
   ],
   "source": [
    "# Method 2: pd.read_sql_query()\n",
    "query = \"SELECT title, artist, score FROM reviews WHERE score = 10\"\n",
    "results_df3 = pd.read_sql_query(query, engine2)\n",
    "\n",
    "# Showing results\n",
    "pd.DataFrame(results_df3)"
   ]
  },
  {
   "cell_type": "code",
   "execution_count": 80,
   "metadata": {},
   "outputs": [],
   "source": [
    "# Commit changes and close database\n",
    "dbserver.commit()\n",
    "cursor.close()\n",
    "dbserver.close()"
   ]
  },
  {
   "cell_type": "markdown",
   "metadata": {},
   "source": [
    "### Problem 4\n",
    "[Colin Mitchell](http://muffinlabs.com/) is a web-developer and artist who has a bunch of [cool projects](http://muffinlabs.com/projects.html) that play with what data can do on the internet. One of his projects is [Today in History](https://history.muffinlabs.com/), which provides an API to access all the Wikipedia pages for historical events that happened on this day in JSON format. The records in this JSON are stored in the `['data']['events']` path. Here's the first listing for today:"
   ]
  },
  {
   "cell_type": "code",
   "execution_count": 86,
   "metadata": {},
   "outputs": [
    {
     "data": {
      "text/plain": [
       "{'year': '477 BC',\n",
       " 'text': 'Battle of the Cremera as part of the Roman-Etruscan Wars.  Veii ambushes and defeats the Roman army.',\n",
       " 'html': '477 BC - 477 BC – <a href=\"https://wikipedia.org/wiki/Battle_of_the_Cremera\" title=\"Battle of the Cremera\">Battle of the Cremera</a> as part of the <a href=\"https://wikipedia.org/wiki/Roman%E2%80%93Etruscan_Wars#The_Fabian_war_with_Veii_in_483-476_BC\" title=\"Roman-Etruscan Wars\">Roman-Etruscan Wars</a>. <a href=\"https://wikipedia.org/wiki/Veii\" title=\"Veii\">Veii</a> ambushes and defeats the <a href=\"https://wikipedia.org/wiki/Roman_Republic\" title=\"Roman Republic\">Roman</a> army.',\n",
       " 'no_year_html': '477 BC – <a href=\"https://wikipedia.org/wiki/Battle_of_the_Cremera\" title=\"Battle of the Cremera\">Battle of the Cremera</a> as part of the <a href=\"https://wikipedia.org/wiki/Roman%E2%80%93Etruscan_Wars#The_Fabian_war_with_Veii_in_483-476_BC\" title=\"Roman-Etruscan Wars\">Roman-Etruscan Wars</a>. <a href=\"https://wikipedia.org/wiki/Veii\" title=\"Veii\">Veii</a> ambushes and defeats the <a href=\"https://wikipedia.org/wiki/Roman_Republic\" title=\"Roman Republic\">Roman</a> army.',\n",
       " 'links': [{'title': 'Battle of the Cremera',\n",
       "   'link': 'https://wikipedia.org/wiki/Battle_of_the_Cremera'},\n",
       "  {'title': 'Roman-Etruscan Wars',\n",
       "   'link': 'https://wikipedia.org/wiki/Roman%E2%80%93Etruscan_Wars#The_Fabian_war_with_Veii_in_483-476_BC'},\n",
       "  {'title': 'Veii', 'link': 'https://wikipedia.org/wiki/Veii'},\n",
       "  {'title': 'Roman Republic',\n",
       "   'link': 'https://wikipedia.org/wiki/Roman_Republic'}]}"
      ]
     },
     "execution_count": 86,
     "metadata": {},
     "output_type": "execute_result"
    }
   ],
   "source": [
    "history = requests.get(\"https://history.muffinlabs.com/date\")\n",
    "history_json = json.loads(history.text)\n",
    "events = history_json['data']['Events']\n",
    "events[0]"
   ]
  },
  {
   "cell_type": "markdown",
   "metadata": {},
   "source": [
    "For this problem, you will use MongoDB and the `pymongo` library to create a local document store NoSQL database containing these historical events.\n",
    "\n",
    "Follow the instructions in the Jupyter notebook for this module to install MongoDB and `pymongo` on your computer. Make sure the local MongoDB server is running. Then import `pymongo`, connect to the local MongoDB client, create a database named \"history\" and a collection within that database named \"today\". Insert all of the records in `events` into this collection. Then issue the following query to find all of the records whose text contain the word \"Virginia\":\n",
    "```\n",
    "query = {\n",
    "    \"text\":{\n",
    "        \"$regex\": 'Virginia'\n",
    "    }\n",
    "}\n",
    "```\n",
    "If there are no results that contain the word \"Virginia\", choose a different work like \"England\" or \"China\". Display the count of the number of documents that match this query, display the output of the query, and generate a JSON formatted variable containing the output. [3 points]"
   ]
  },
  {
   "cell_type": "code",
   "execution_count": 104,
   "metadata": {},
   "outputs": [],
   "source": [
    "history = requests.get(\"https://history.muffinlabs.com/date\")\n",
    "history_json = json.loads(history.text)\n",
    "events = history_json['data']['Events']"
   ]
  },
  {
   "cell_type": "code",
   "execution_count": 105,
   "metadata": {},
   "outputs": [],
   "source": [
    "# Environmental variables\n",
    "mongo_username = os.getenv('MONGO_INITDB_ROOT_USERNAME')\n",
    "mongo_password = os.getenv('MONGO_INITDB_ROOT_PASSWORD')\n",
    "mongo_host = os.getenv('MONGO_HOST', 'localhost')\n",
    "mongo_port = os.getenv('MONGO_PORT', '27017')\n",
    "\n",
    "mongo_url = f\"mongodb://{mongo_username}:{mongo_password}@{mongo_host}:{mongo_port}/\""
   ]
  },
  {
   "cell_type": "code",
   "execution_count": 90,
   "metadata": {},
   "outputs": [],
   "source": [
    "# Connect to MongoDB\n",
    "client = pymongo.MongoClient(mongo_url)\n",
    "db = client[\"history\"]\n",
    "collection = db[\"today\"]"
   ]
  },
  {
   "cell_type": "code",
   "execution_count": 106,
   "metadata": {},
   "outputs": [
    {
     "data": {
      "text/plain": [
       "InsertManyResult([ObjectId('66986745b7b048445e50ab8b'), ObjectId('66986745b7b048445e50ab8c'), ObjectId('66986745b7b048445e50ab8d'), ObjectId('66986745b7b048445e50ab8e'), ObjectId('66986745b7b048445e50ab8f'), ObjectId('66986745b7b048445e50ab90'), ObjectId('66986745b7b048445e50ab91'), ObjectId('66986745b7b048445e50ab92'), ObjectId('66986745b7b048445e50ab93'), ObjectId('66986745b7b048445e50ab94'), ObjectId('66986745b7b048445e50ab95'), ObjectId('66986745b7b048445e50ab96'), ObjectId('66986745b7b048445e50ab97'), ObjectId('66986745b7b048445e50ab98'), ObjectId('66986745b7b048445e50ab99'), ObjectId('66986745b7b048445e50ab9a'), ObjectId('66986745b7b048445e50ab9b'), ObjectId('66986745b7b048445e50ab9c'), ObjectId('66986745b7b048445e50ab9d'), ObjectId('66986745b7b048445e50ab9e'), ObjectId('66986745b7b048445e50ab9f'), ObjectId('66986745b7b048445e50aba0'), ObjectId('66986745b7b048445e50aba1'), ObjectId('66986745b7b048445e50aba2'), ObjectId('66986745b7b048445e50aba3'), ObjectId('66986745b7b048445e50aba4'), ObjectId('66986745b7b048445e50aba5'), ObjectId('66986745b7b048445e50aba6'), ObjectId('66986745b7b048445e50aba7'), ObjectId('66986745b7b048445e50aba8'), ObjectId('66986745b7b048445e50aba9'), ObjectId('66986745b7b048445e50abaa'), ObjectId('66986745b7b048445e50abab'), ObjectId('66986745b7b048445e50abac'), ObjectId('66986745b7b048445e50abad'), ObjectId('66986745b7b048445e50abae'), ObjectId('66986745b7b048445e50abaf'), ObjectId('66986745b7b048445e50abb0'), ObjectId('66986745b7b048445e50abb1'), ObjectId('66986745b7b048445e50abb2'), ObjectId('66986745b7b048445e50abb3'), ObjectId('66986745b7b048445e50abb4'), ObjectId('66986745b7b048445e50abb5')], acknowledged=True)"
      ]
     },
     "execution_count": 106,
     "metadata": {},
     "output_type": "execute_result"
    }
   ],
   "source": [
    "# Insert events\n",
    "collection.insert_many(events)"
   ]
  },
  {
   "cell_type": "code",
   "execution_count": 120,
   "metadata": {},
   "outputs": [
    {
     "name": "stdout",
     "output_type": "stream",
     "text": [
      "4\n"
     ]
    }
   ],
   "source": [
    "# Find documents\n",
    "query = {\n",
    "    \"text\":{\n",
    "        \"$regex\": 'Japan'\n",
    "    }\n",
    "}\n",
    "\n",
    "results = list(collection.find(query))\n",
    "print(len(results))"
   ]
  },
  {
   "cell_type": "code",
   "execution_count": 121,
   "metadata": {},
   "outputs": [
    {
     "name": "stdout",
     "output_type": "stream",
     "text": [
      "[{'_id': ObjectId('669864e9b7b048445e50ab77'), 'year': '1944', 'text': 'World War II: Hideki Tōjō resigns as Prime Minister of Japan because of numerous setbacks in the war effort.', 'html': '1944 - World War II: <a href=\"https://wikipedia.org/wiki/Hideki_T%C5%8Dj%C5%8D\" class=\"mw-redirect\" title=\"Hideki Tōjō\">Hideki Tōjō</a> resigns as <a href=\"https://wikipedia.org/wiki/Prime_Minister_of_Japan\" title=\"Prime Minister of Japan\">Prime Minister of Japan</a> because of numerous setbacks in the war effort.', 'no_year_html': 'World War II: <a href=\"https://wikipedia.org/wiki/Hideki_T%C5%8Dj%C5%8D\" class=\"mw-redirect\" title=\"Hideki Tōjō\">Hideki Tōjō</a> resigns as <a href=\"https://wikipedia.org/wiki/Prime_Minister_of_Japan\" title=\"Prime Minister of Japan\">Prime Minister of Japan</a> because of numerous setbacks in the war effort.', 'links': [{'title': 'Hideki Tōjō', 'link': 'https://wikipedia.org/wiki/Hideki_T%C5%8Dj%C5%8D'}, {'title': 'Prime Minister of Japan', 'link': 'https://wikipedia.org/wiki/Prime_Minister_of_Japan'}]}, {'_id': ObjectId('669864e9b7b048445e50ab89'), 'year': '2019', 'text': 'A man sets fire to an anime studio in Fushimi-ku, Kyoto, Japan, killing at least 35 people and injuring dozens of others.', 'html': '2019 - A man <a href=\"https://wikipedia.org/wiki/Kyoto_Animation_arson_attack\" title=\"Kyoto Animation arson attack\">sets fire to an anime studio</a> in <a href=\"https://wikipedia.org/wiki/Fushimi-ku,_Kyoto\" title=\"Fushimi-ku, Kyoto\">Fushimi-ku, Kyoto</a>, <a href=\"https://wikipedia.org/wiki/Japan\" title=\"Japan\">Japan</a>, killing at least 35 people and injuring dozens of others.', 'no_year_html': 'A man <a href=\"https://wikipedia.org/wiki/Kyoto_Animation_arson_attack\" title=\"Kyoto Animation arson attack\">sets fire to an anime studio</a> in <a href=\"https://wikipedia.org/wiki/Fushimi-ku,_Kyoto\" title=\"Fushimi-ku, Kyoto\">Fushimi-ku, Kyoto</a>, <a href=\"https://wikipedia.org/wiki/Japan\" title=\"Japan\">Japan</a>, killing at least 35 people and injuring dozens of others.', 'links': [{'title': 'Kyoto Animation arson attack', 'link': 'https://wikipedia.org/wiki/Kyoto_Animation_arson_attack'}, {'title': 'Fushimi-ku, Kyoto', 'link': 'https://wikipedia.org/wiki/Fushimi-ku,_Kyoto'}, {'title': 'Japan', 'link': 'https://wikipedia.org/wiki/Japan'}]}, {'_id': ObjectId('66986745b7b048445e50aba3'), 'year': '1944', 'text': 'World War II: Hideki Tōjō resigns as Prime Minister of Japan because of numerous setbacks in the war effort.', 'html': '1944 - World War II: <a href=\"https://wikipedia.org/wiki/Hideki_T%C5%8Dj%C5%8D\" class=\"mw-redirect\" title=\"Hideki Tōjō\">Hideki Tōjō</a> resigns as <a href=\"https://wikipedia.org/wiki/Prime_Minister_of_Japan\" title=\"Prime Minister of Japan\">Prime Minister of Japan</a> because of numerous setbacks in the war effort.', 'no_year_html': 'World War II: <a href=\"https://wikipedia.org/wiki/Hideki_T%C5%8Dj%C5%8D\" class=\"mw-redirect\" title=\"Hideki Tōjō\">Hideki Tōjō</a> resigns as <a href=\"https://wikipedia.org/wiki/Prime_Minister_of_Japan\" title=\"Prime Minister of Japan\">Prime Minister of Japan</a> because of numerous setbacks in the war effort.', 'links': [{'title': 'Hideki Tōjō', 'link': 'https://wikipedia.org/wiki/Hideki_T%C5%8Dj%C5%8D'}, {'title': 'Prime Minister of Japan', 'link': 'https://wikipedia.org/wiki/Prime_Minister_of_Japan'}]}, {'_id': ObjectId('66986745b7b048445e50abb5'), 'year': '2019', 'text': 'A man sets fire to an anime studio in Fushimi-ku, Kyoto, Japan, killing at least 35 people and injuring dozens of others.', 'html': '2019 - A man <a href=\"https://wikipedia.org/wiki/Kyoto_Animation_arson_attack\" title=\"Kyoto Animation arson attack\">sets fire to an anime studio</a> in <a href=\"https://wikipedia.org/wiki/Fushimi-ku,_Kyoto\" title=\"Fushimi-ku, Kyoto\">Fushimi-ku, Kyoto</a>, <a href=\"https://wikipedia.org/wiki/Japan\" title=\"Japan\">Japan</a>, killing at least 35 people and injuring dozens of others.', 'no_year_html': 'A man <a href=\"https://wikipedia.org/wiki/Kyoto_Animation_arson_attack\" title=\"Kyoto Animation arson attack\">sets fire to an anime studio</a> in <a href=\"https://wikipedia.org/wiki/Fushimi-ku,_Kyoto\" title=\"Fushimi-ku, Kyoto\">Fushimi-ku, Kyoto</a>, <a href=\"https://wikipedia.org/wiki/Japan\" title=\"Japan\">Japan</a>, killing at least 35 people and injuring dozens of others.', 'links': [{'title': 'Kyoto Animation arson attack', 'link': 'https://wikipedia.org/wiki/Kyoto_Animation_arson_attack'}, {'title': 'Fushimi-ku, Kyoto', 'link': 'https://wikipedia.org/wiki/Fushimi-ku,_Kyoto'}, {'title': 'Japan', 'link': 'https://wikipedia.org/wiki/Japan'}]}]\n",
      "[{'_id': ObjectId('669864e9b7b048445e50ab77'), 'year': '1944', 'text': 'World War II: Hideki Tōjō resigns as Prime Minister of Japan because of numerous setbacks in the war effort.', 'html': '1944 - World War II: <a href=\"https://wikipedia.org/wiki/Hideki_T%C5%8Dj%C5%8D\" class=\"mw-redirect\" title=\"Hideki Tōjō\">Hideki Tōjō</a> resigns as <a href=\"https://wikipedia.org/wiki/Prime_Minister_of_Japan\" title=\"Prime Minister of Japan\">Prime Minister of Japan</a> because of numerous setbacks in the war effort.', 'no_year_html': 'World War II: <a href=\"https://wikipedia.org/wiki/Hideki_T%C5%8Dj%C5%8D\" class=\"mw-redirect\" title=\"Hideki Tōjō\">Hideki Tōjō</a> resigns as <a href=\"https://wikipedia.org/wiki/Prime_Minister_of_Japan\" title=\"Prime Minister of Japan\">Prime Minister of Japan</a> because of numerous setbacks in the war effort.', 'links': [{'title': 'Hideki Tōjō', 'link': 'https://wikipedia.org/wiki/Hideki_T%C5%8Dj%C5%8D'}, {'title': 'Prime Minister of Japan', 'link': 'https://wikipedia.org/wiki/Prime_Minister_of_Japan'}]}, {'_id': ObjectId('669864e9b7b048445e50ab89'), 'year': '2019', 'text': 'A man sets fire to an anime studio in Fushimi-ku, Kyoto, Japan, killing at least 35 people and injuring dozens of others.', 'html': '2019 - A man <a href=\"https://wikipedia.org/wiki/Kyoto_Animation_arson_attack\" title=\"Kyoto Animation arson attack\">sets fire to an anime studio</a> in <a href=\"https://wikipedia.org/wiki/Fushimi-ku,_Kyoto\" title=\"Fushimi-ku, Kyoto\">Fushimi-ku, Kyoto</a>, <a href=\"https://wikipedia.org/wiki/Japan\" title=\"Japan\">Japan</a>, killing at least 35 people and injuring dozens of others.', 'no_year_html': 'A man <a href=\"https://wikipedia.org/wiki/Kyoto_Animation_arson_attack\" title=\"Kyoto Animation arson attack\">sets fire to an anime studio</a> in <a href=\"https://wikipedia.org/wiki/Fushimi-ku,_Kyoto\" title=\"Fushimi-ku, Kyoto\">Fushimi-ku, Kyoto</a>, <a href=\"https://wikipedia.org/wiki/Japan\" title=\"Japan\">Japan</a>, killing at least 35 people and injuring dozens of others.', 'links': [{'title': 'Kyoto Animation arson attack', 'link': 'https://wikipedia.org/wiki/Kyoto_Animation_arson_attack'}, {'title': 'Fushimi-ku, Kyoto', 'link': 'https://wikipedia.org/wiki/Fushimi-ku,_Kyoto'}, {'title': 'Japan', 'link': 'https://wikipedia.org/wiki/Japan'}]}, {'_id': ObjectId('66986745b7b048445e50aba3'), 'year': '1944', 'text': 'World War II: Hideki Tōjō resigns as Prime Minister of Japan because of numerous setbacks in the war effort.', 'html': '1944 - World War II: <a href=\"https://wikipedia.org/wiki/Hideki_T%C5%8Dj%C5%8D\" class=\"mw-redirect\" title=\"Hideki Tōjō\">Hideki Tōjō</a> resigns as <a href=\"https://wikipedia.org/wiki/Prime_Minister_of_Japan\" title=\"Prime Minister of Japan\">Prime Minister of Japan</a> because of numerous setbacks in the war effort.', 'no_year_html': 'World War II: <a href=\"https://wikipedia.org/wiki/Hideki_T%C5%8Dj%C5%8D\" class=\"mw-redirect\" title=\"Hideki Tōjō\">Hideki Tōjō</a> resigns as <a href=\"https://wikipedia.org/wiki/Prime_Minister_of_Japan\" title=\"Prime Minister of Japan\">Prime Minister of Japan</a> because of numerous setbacks in the war effort.', 'links': [{'title': 'Hideki Tōjō', 'link': 'https://wikipedia.org/wiki/Hideki_T%C5%8Dj%C5%8D'}, {'title': 'Prime Minister of Japan', 'link': 'https://wikipedia.org/wiki/Prime_Minister_of_Japan'}]}, {'_id': ObjectId('66986745b7b048445e50abb5'), 'year': '2019', 'text': 'A man sets fire to an anime studio in Fushimi-ku, Kyoto, Japan, killing at least 35 people and injuring dozens of others.', 'html': '2019 - A man <a href=\"https://wikipedia.org/wiki/Kyoto_Animation_arson_attack\" title=\"Kyoto Animation arson attack\">sets fire to an anime studio</a> in <a href=\"https://wikipedia.org/wiki/Fushimi-ku,_Kyoto\" title=\"Fushimi-ku, Kyoto\">Fushimi-ku, Kyoto</a>, <a href=\"https://wikipedia.org/wiki/Japan\" title=\"Japan\">Japan</a>, killing at least 35 people and injuring dozens of others.', 'no_year_html': 'A man <a href=\"https://wikipedia.org/wiki/Kyoto_Animation_arson_attack\" title=\"Kyoto Animation arson attack\">sets fire to an anime studio</a> in <a href=\"https://wikipedia.org/wiki/Fushimi-ku,_Kyoto\" title=\"Fushimi-ku, Kyoto\">Fushimi-ku, Kyoto</a>, <a href=\"https://wikipedia.org/wiki/Japan\" title=\"Japan\">Japan</a>, killing at least 35 people and injuring dozens of others.', 'links': [{'title': 'Kyoto Animation arson attack', 'link': 'https://wikipedia.org/wiki/Kyoto_Animation_arson_attack'}, {'title': 'Fushimi-ku, Kyoto', 'link': 'https://wikipedia.org/wiki/Fushimi-ku,_Kyoto'}, {'title': 'Japan', 'link': 'https://wikipedia.org/wiki/Japan'}]}]\n",
      "[{'_id': ObjectId('669864e9b7b048445e50ab77'), 'year': '1944', 'text': 'World War II: Hideki Tōjō resigns as Prime Minister of Japan because of numerous setbacks in the war effort.', 'html': '1944 - World War II: <a href=\"https://wikipedia.org/wiki/Hideki_T%C5%8Dj%C5%8D\" class=\"mw-redirect\" title=\"Hideki Tōjō\">Hideki Tōjō</a> resigns as <a href=\"https://wikipedia.org/wiki/Prime_Minister_of_Japan\" title=\"Prime Minister of Japan\">Prime Minister of Japan</a> because of numerous setbacks in the war effort.', 'no_year_html': 'World War II: <a href=\"https://wikipedia.org/wiki/Hideki_T%C5%8Dj%C5%8D\" class=\"mw-redirect\" title=\"Hideki Tōjō\">Hideki Tōjō</a> resigns as <a href=\"https://wikipedia.org/wiki/Prime_Minister_of_Japan\" title=\"Prime Minister of Japan\">Prime Minister of Japan</a> because of numerous setbacks in the war effort.', 'links': [{'title': 'Hideki Tōjō', 'link': 'https://wikipedia.org/wiki/Hideki_T%C5%8Dj%C5%8D'}, {'title': 'Prime Minister of Japan', 'link': 'https://wikipedia.org/wiki/Prime_Minister_of_Japan'}]}, {'_id': ObjectId('669864e9b7b048445e50ab89'), 'year': '2019', 'text': 'A man sets fire to an anime studio in Fushimi-ku, Kyoto, Japan, killing at least 35 people and injuring dozens of others.', 'html': '2019 - A man <a href=\"https://wikipedia.org/wiki/Kyoto_Animation_arson_attack\" title=\"Kyoto Animation arson attack\">sets fire to an anime studio</a> in <a href=\"https://wikipedia.org/wiki/Fushimi-ku,_Kyoto\" title=\"Fushimi-ku, Kyoto\">Fushimi-ku, Kyoto</a>, <a href=\"https://wikipedia.org/wiki/Japan\" title=\"Japan\">Japan</a>, killing at least 35 people and injuring dozens of others.', 'no_year_html': 'A man <a href=\"https://wikipedia.org/wiki/Kyoto_Animation_arson_attack\" title=\"Kyoto Animation arson attack\">sets fire to an anime studio</a> in <a href=\"https://wikipedia.org/wiki/Fushimi-ku,_Kyoto\" title=\"Fushimi-ku, Kyoto\">Fushimi-ku, Kyoto</a>, <a href=\"https://wikipedia.org/wiki/Japan\" title=\"Japan\">Japan</a>, killing at least 35 people and injuring dozens of others.', 'links': [{'title': 'Kyoto Animation arson attack', 'link': 'https://wikipedia.org/wiki/Kyoto_Animation_arson_attack'}, {'title': 'Fushimi-ku, Kyoto', 'link': 'https://wikipedia.org/wiki/Fushimi-ku,_Kyoto'}, {'title': 'Japan', 'link': 'https://wikipedia.org/wiki/Japan'}]}, {'_id': ObjectId('66986745b7b048445e50aba3'), 'year': '1944', 'text': 'World War II: Hideki Tōjō resigns as Prime Minister of Japan because of numerous setbacks in the war effort.', 'html': '1944 - World War II: <a href=\"https://wikipedia.org/wiki/Hideki_T%C5%8Dj%C5%8D\" class=\"mw-redirect\" title=\"Hideki Tōjō\">Hideki Tōjō</a> resigns as <a href=\"https://wikipedia.org/wiki/Prime_Minister_of_Japan\" title=\"Prime Minister of Japan\">Prime Minister of Japan</a> because of numerous setbacks in the war effort.', 'no_year_html': 'World War II: <a href=\"https://wikipedia.org/wiki/Hideki_T%C5%8Dj%C5%8D\" class=\"mw-redirect\" title=\"Hideki Tōjō\">Hideki Tōjō</a> resigns as <a href=\"https://wikipedia.org/wiki/Prime_Minister_of_Japan\" title=\"Prime Minister of Japan\">Prime Minister of Japan</a> because of numerous setbacks in the war effort.', 'links': [{'title': 'Hideki Tōjō', 'link': 'https://wikipedia.org/wiki/Hideki_T%C5%8Dj%C5%8D'}, {'title': 'Prime Minister of Japan', 'link': 'https://wikipedia.org/wiki/Prime_Minister_of_Japan'}]}, {'_id': ObjectId('66986745b7b048445e50abb5'), 'year': '2019', 'text': 'A man sets fire to an anime studio in Fushimi-ku, Kyoto, Japan, killing at least 35 people and injuring dozens of others.', 'html': '2019 - A man <a href=\"https://wikipedia.org/wiki/Kyoto_Animation_arson_attack\" title=\"Kyoto Animation arson attack\">sets fire to an anime studio</a> in <a href=\"https://wikipedia.org/wiki/Fushimi-ku,_Kyoto\" title=\"Fushimi-ku, Kyoto\">Fushimi-ku, Kyoto</a>, <a href=\"https://wikipedia.org/wiki/Japan\" title=\"Japan\">Japan</a>, killing at least 35 people and injuring dozens of others.', 'no_year_html': 'A man <a href=\"https://wikipedia.org/wiki/Kyoto_Animation_arson_attack\" title=\"Kyoto Animation arson attack\">sets fire to an anime studio</a> in <a href=\"https://wikipedia.org/wiki/Fushimi-ku,_Kyoto\" title=\"Fushimi-ku, Kyoto\">Fushimi-ku, Kyoto</a>, <a href=\"https://wikipedia.org/wiki/Japan\" title=\"Japan\">Japan</a>, killing at least 35 people and injuring dozens of others.', 'links': [{'title': 'Kyoto Animation arson attack', 'link': 'https://wikipedia.org/wiki/Kyoto_Animation_arson_attack'}, {'title': 'Fushimi-ku, Kyoto', 'link': 'https://wikipedia.org/wiki/Fushimi-ku,_Kyoto'}, {'title': 'Japan', 'link': 'https://wikipedia.org/wiki/Japan'}]}]\n",
      "[{'_id': ObjectId('669864e9b7b048445e50ab77'), 'year': '1944', 'text': 'World War II: Hideki Tōjō resigns as Prime Minister of Japan because of numerous setbacks in the war effort.', 'html': '1944 - World War II: <a href=\"https://wikipedia.org/wiki/Hideki_T%C5%8Dj%C5%8D\" class=\"mw-redirect\" title=\"Hideki Tōjō\">Hideki Tōjō</a> resigns as <a href=\"https://wikipedia.org/wiki/Prime_Minister_of_Japan\" title=\"Prime Minister of Japan\">Prime Minister of Japan</a> because of numerous setbacks in the war effort.', 'no_year_html': 'World War II: <a href=\"https://wikipedia.org/wiki/Hideki_T%C5%8Dj%C5%8D\" class=\"mw-redirect\" title=\"Hideki Tōjō\">Hideki Tōjō</a> resigns as <a href=\"https://wikipedia.org/wiki/Prime_Minister_of_Japan\" title=\"Prime Minister of Japan\">Prime Minister of Japan</a> because of numerous setbacks in the war effort.', 'links': [{'title': 'Hideki Tōjō', 'link': 'https://wikipedia.org/wiki/Hideki_T%C5%8Dj%C5%8D'}, {'title': 'Prime Minister of Japan', 'link': 'https://wikipedia.org/wiki/Prime_Minister_of_Japan'}]}, {'_id': ObjectId('669864e9b7b048445e50ab89'), 'year': '2019', 'text': 'A man sets fire to an anime studio in Fushimi-ku, Kyoto, Japan, killing at least 35 people and injuring dozens of others.', 'html': '2019 - A man <a href=\"https://wikipedia.org/wiki/Kyoto_Animation_arson_attack\" title=\"Kyoto Animation arson attack\">sets fire to an anime studio</a> in <a href=\"https://wikipedia.org/wiki/Fushimi-ku,_Kyoto\" title=\"Fushimi-ku, Kyoto\">Fushimi-ku, Kyoto</a>, <a href=\"https://wikipedia.org/wiki/Japan\" title=\"Japan\">Japan</a>, killing at least 35 people and injuring dozens of others.', 'no_year_html': 'A man <a href=\"https://wikipedia.org/wiki/Kyoto_Animation_arson_attack\" title=\"Kyoto Animation arson attack\">sets fire to an anime studio</a> in <a href=\"https://wikipedia.org/wiki/Fushimi-ku,_Kyoto\" title=\"Fushimi-ku, Kyoto\">Fushimi-ku, Kyoto</a>, <a href=\"https://wikipedia.org/wiki/Japan\" title=\"Japan\">Japan</a>, killing at least 35 people and injuring dozens of others.', 'links': [{'title': 'Kyoto Animation arson attack', 'link': 'https://wikipedia.org/wiki/Kyoto_Animation_arson_attack'}, {'title': 'Fushimi-ku, Kyoto', 'link': 'https://wikipedia.org/wiki/Fushimi-ku,_Kyoto'}, {'title': 'Japan', 'link': 'https://wikipedia.org/wiki/Japan'}]}, {'_id': ObjectId('66986745b7b048445e50aba3'), 'year': '1944', 'text': 'World War II: Hideki Tōjō resigns as Prime Minister of Japan because of numerous setbacks in the war effort.', 'html': '1944 - World War II: <a href=\"https://wikipedia.org/wiki/Hideki_T%C5%8Dj%C5%8D\" class=\"mw-redirect\" title=\"Hideki Tōjō\">Hideki Tōjō</a> resigns as <a href=\"https://wikipedia.org/wiki/Prime_Minister_of_Japan\" title=\"Prime Minister of Japan\">Prime Minister of Japan</a> because of numerous setbacks in the war effort.', 'no_year_html': 'World War II: <a href=\"https://wikipedia.org/wiki/Hideki_T%C5%8Dj%C5%8D\" class=\"mw-redirect\" title=\"Hideki Tōjō\">Hideki Tōjō</a> resigns as <a href=\"https://wikipedia.org/wiki/Prime_Minister_of_Japan\" title=\"Prime Minister of Japan\">Prime Minister of Japan</a> because of numerous setbacks in the war effort.', 'links': [{'title': 'Hideki Tōjō', 'link': 'https://wikipedia.org/wiki/Hideki_T%C5%8Dj%C5%8D'}, {'title': 'Prime Minister of Japan', 'link': 'https://wikipedia.org/wiki/Prime_Minister_of_Japan'}]}, {'_id': ObjectId('66986745b7b048445e50abb5'), 'year': '2019', 'text': 'A man sets fire to an anime studio in Fushimi-ku, Kyoto, Japan, killing at least 35 people and injuring dozens of others.', 'html': '2019 - A man <a href=\"https://wikipedia.org/wiki/Kyoto_Animation_arson_attack\" title=\"Kyoto Animation arson attack\">sets fire to an anime studio</a> in <a href=\"https://wikipedia.org/wiki/Fushimi-ku,_Kyoto\" title=\"Fushimi-ku, Kyoto\">Fushimi-ku, Kyoto</a>, <a href=\"https://wikipedia.org/wiki/Japan\" title=\"Japan\">Japan</a>, killing at least 35 people and injuring dozens of others.', 'no_year_html': 'A man <a href=\"https://wikipedia.org/wiki/Kyoto_Animation_arson_attack\" title=\"Kyoto Animation arson attack\">sets fire to an anime studio</a> in <a href=\"https://wikipedia.org/wiki/Fushimi-ku,_Kyoto\" title=\"Fushimi-ku, Kyoto\">Fushimi-ku, Kyoto</a>, <a href=\"https://wikipedia.org/wiki/Japan\" title=\"Japan\">Japan</a>, killing at least 35 people and injuring dozens of others.', 'links': [{'title': 'Kyoto Animation arson attack', 'link': 'https://wikipedia.org/wiki/Kyoto_Animation_arson_attack'}, {'title': 'Fushimi-ku, Kyoto', 'link': 'https://wikipedia.org/wiki/Fushimi-ku,_Kyoto'}, {'title': 'Japan', 'link': 'https://wikipedia.org/wiki/Japan'}]}]\n"
     ]
    }
   ],
   "source": [
    "# Showing results\n",
    "for result in results:\n",
    "    print(results)"
   ]
  },
  {
   "cell_type": "code",
   "execution_count": 123,
   "metadata": {},
   "outputs": [
    {
     "name": "stdout",
     "output_type": "stream",
     "text": [
      "[\n",
      "    {\n",
      "        \"_id\": \"669864e9b7b048445e50ab77\",\n",
      "        \"year\": \"1944\",\n",
      "        \"text\": \"World War II: Hideki T\\u014dj\\u014d resigns as Prime Minister of Japan because of numerous setbacks in the war effort.\",\n",
      "        \"html\": \"1944 - World War II: <a href=\\\"https://wikipedia.org/wiki/Hideki_T%C5%8Dj%C5%8D\\\" class=\\\"mw-redirect\\\" title=\\\"Hideki T\\u014dj\\u014d\\\">Hideki T\\u014dj\\u014d</a> resigns as <a href=\\\"https://wikipedia.org/wiki/Prime_Minister_of_Japan\\\" title=\\\"Prime Minister of Japan\\\">Prime Minister of Japan</a> because of numerous setbacks in the war effort.\",\n",
      "        \"no_year_html\": \"World War II: <a href=\\\"https://wikipedia.org/wiki/Hideki_T%C5%8Dj%C5%8D\\\" class=\\\"mw-redirect\\\" title=\\\"Hideki T\\u014dj\\u014d\\\">Hideki T\\u014dj\\u014d</a> resigns as <a href=\\\"https://wikipedia.org/wiki/Prime_Minister_of_Japan\\\" title=\\\"Prime Minister of Japan\\\">Prime Minister of Japan</a> because of numerous setbacks in the war effort.\",\n",
      "        \"links\": [\n",
      "            {\n",
      "                \"title\": \"Hideki T\\u014dj\\u014d\",\n",
      "                \"link\": \"https://wikipedia.org/wiki/Hideki_T%C5%8Dj%C5%8D\"\n",
      "            },\n",
      "            {\n",
      "                \"title\": \"Prime Minister of Japan\",\n",
      "                \"link\": \"https://wikipedia.org/wiki/Prime_Minister_of_Japan\"\n",
      "            }\n",
      "        ]\n",
      "    },\n",
      "    {\n",
      "        \"_id\": \"669864e9b7b048445e50ab89\",\n",
      "        \"year\": \"2019\",\n",
      "        \"text\": \"A man sets fire to an anime studio in Fushimi-ku, Kyoto, Japan, killing at least 35 people and injuring dozens of others.\",\n",
      "        \"html\": \"2019 - A man <a href=\\\"https://wikipedia.org/wiki/Kyoto_Animation_arson_attack\\\" title=\\\"Kyoto Animation arson attack\\\">sets fire to an anime studio</a> in <a href=\\\"https://wikipedia.org/wiki/Fushimi-ku,_Kyoto\\\" title=\\\"Fushimi-ku, Kyoto\\\">Fushimi-ku, Kyoto</a>, <a href=\\\"https://wikipedia.org/wiki/Japan\\\" title=\\\"Japan\\\">Japan</a>, killing at least 35 people and injuring dozens of others.\",\n",
      "        \"no_year_html\": \"A man <a href=\\\"https://wikipedia.org/wiki/Kyoto_Animation_arson_attack\\\" title=\\\"Kyoto Animation arson attack\\\">sets fire to an anime studio</a> in <a href=\\\"https://wikipedia.org/wiki/Fushimi-ku,_Kyoto\\\" title=\\\"Fushimi-ku, Kyoto\\\">Fushimi-ku, Kyoto</a>, <a href=\\\"https://wikipedia.org/wiki/Japan\\\" title=\\\"Japan\\\">Japan</a>, killing at least 35 people and injuring dozens of others.\",\n",
      "        \"links\": [\n",
      "            {\n",
      "                \"title\": \"Kyoto Animation arson attack\",\n",
      "                \"link\": \"https://wikipedia.org/wiki/Kyoto_Animation_arson_attack\"\n",
      "            },\n",
      "            {\n",
      "                \"title\": \"Fushimi-ku, Kyoto\",\n",
      "                \"link\": \"https://wikipedia.org/wiki/Fushimi-ku,_Kyoto\"\n",
      "            },\n",
      "            {\n",
      "                \"title\": \"Japan\",\n",
      "                \"link\": \"https://wikipedia.org/wiki/Japan\"\n",
      "            }\n",
      "        ]\n",
      "    },\n",
      "    {\n",
      "        \"_id\": \"66986745b7b048445e50aba3\",\n",
      "        \"year\": \"1944\",\n",
      "        \"text\": \"World War II: Hideki T\\u014dj\\u014d resigns as Prime Minister of Japan because of numerous setbacks in the war effort.\",\n",
      "        \"html\": \"1944 - World War II: <a href=\\\"https://wikipedia.org/wiki/Hideki_T%C5%8Dj%C5%8D\\\" class=\\\"mw-redirect\\\" title=\\\"Hideki T\\u014dj\\u014d\\\">Hideki T\\u014dj\\u014d</a> resigns as <a href=\\\"https://wikipedia.org/wiki/Prime_Minister_of_Japan\\\" title=\\\"Prime Minister of Japan\\\">Prime Minister of Japan</a> because of numerous setbacks in the war effort.\",\n",
      "        \"no_year_html\": \"World War II: <a href=\\\"https://wikipedia.org/wiki/Hideki_T%C5%8Dj%C5%8D\\\" class=\\\"mw-redirect\\\" title=\\\"Hideki T\\u014dj\\u014d\\\">Hideki T\\u014dj\\u014d</a> resigns as <a href=\\\"https://wikipedia.org/wiki/Prime_Minister_of_Japan\\\" title=\\\"Prime Minister of Japan\\\">Prime Minister of Japan</a> because of numerous setbacks in the war effort.\",\n",
      "        \"links\": [\n",
      "            {\n",
      "                \"title\": \"Hideki T\\u014dj\\u014d\",\n",
      "                \"link\": \"https://wikipedia.org/wiki/Hideki_T%C5%8Dj%C5%8D\"\n",
      "            },\n",
      "            {\n",
      "                \"title\": \"Prime Minister of Japan\",\n",
      "                \"link\": \"https://wikipedia.org/wiki/Prime_Minister_of_Japan\"\n",
      "            }\n",
      "        ]\n",
      "    },\n",
      "    {\n",
      "        \"_id\": \"66986745b7b048445e50abb5\",\n",
      "        \"year\": \"2019\",\n",
      "        \"text\": \"A man sets fire to an anime studio in Fushimi-ku, Kyoto, Japan, killing at least 35 people and injuring dozens of others.\",\n",
      "        \"html\": \"2019 - A man <a href=\\\"https://wikipedia.org/wiki/Kyoto_Animation_arson_attack\\\" title=\\\"Kyoto Animation arson attack\\\">sets fire to an anime studio</a> in <a href=\\\"https://wikipedia.org/wiki/Fushimi-ku,_Kyoto\\\" title=\\\"Fushimi-ku, Kyoto\\\">Fushimi-ku, Kyoto</a>, <a href=\\\"https://wikipedia.org/wiki/Japan\\\" title=\\\"Japan\\\">Japan</a>, killing at least 35 people and injuring dozens of others.\",\n",
      "        \"no_year_html\": \"A man <a href=\\\"https://wikipedia.org/wiki/Kyoto_Animation_arson_attack\\\" title=\\\"Kyoto Animation arson attack\\\">sets fire to an anime studio</a> in <a href=\\\"https://wikipedia.org/wiki/Fushimi-ku,_Kyoto\\\" title=\\\"Fushimi-ku, Kyoto\\\">Fushimi-ku, Kyoto</a>, <a href=\\\"https://wikipedia.org/wiki/Japan\\\" title=\\\"Japan\\\">Japan</a>, killing at least 35 people and injuring dozens of others.\",\n",
      "        \"links\": [\n",
      "            {\n",
      "                \"title\": \"Kyoto Animation arson attack\",\n",
      "                \"link\": \"https://wikipedia.org/wiki/Kyoto_Animation_arson_attack\"\n",
      "            },\n",
      "            {\n",
      "                \"title\": \"Fushimi-ku, Kyoto\",\n",
      "                \"link\": \"https://wikipedia.org/wiki/Fushimi-ku,_Kyoto\"\n",
      "            },\n",
      "            {\n",
      "                \"title\": \"Japan\",\n",
      "                \"link\": \"https://wikipedia.org/wiki/Japan\"\n",
      "            }\n",
      "        ]\n",
      "    }\n",
      "]\n"
     ]
    }
   ],
   "source": [
    "# JSON formatted variable\n",
    "for doc in results:\n",
    "    doc['_id'] = str(doc['_id'])\n",
    "\n",
    "json_output = json.dumps(results, indent = 4)\n",
    "print(json_output)"
   ]
  },
  {
   "cell_type": "markdown",
   "metadata": {},
   "source": [
    "## Problem 5 [No points, no need to write anything here, but do it anyway!]\n",
    "When you are done working, go to the same terminal window you used to launch the databases with `docker compose up`. Here, type CONTROL + C on your keyboard to shut down the container.\n",
    "\n",
    "Next type\n",
    "```\n",
    "docker compose down\n",
    "```\n",
    "This step removes extra database software, networks, volumes, etc. running on your computer. If you don't need them, don't clog your computer.\n",
    "\n",
    "Whenever you need to work with databases, return to the terminal, navigate to this folder and type\n",
    "```\n",
    "docker compose up\n",
    "```\n",
    "to bring all these resources back online. "
   ]
  }
 ],
 "metadata": {
  "kernelspec": {
   "display_name": "Python 3 (ipykernel)",
   "language": "python",
   "name": "python3"
  },
  "language_info": {
   "codemirror_mode": {
    "name": "ipython",
    "version": 3
   },
   "file_extension": ".py",
   "mimetype": "text/x-python",
   "name": "python",
   "nbconvert_exporter": "python",
   "pygments_lexer": "ipython3",
   "version": "3.12.3"
  }
 },
 "nbformat": 4,
 "nbformat_minor": 4
}
